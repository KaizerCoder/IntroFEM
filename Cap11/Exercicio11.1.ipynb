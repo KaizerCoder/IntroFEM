{
 "cells": [
  {
   "cell_type": "code",
   "execution_count": 1,
   "id": "424c6eca",
   "metadata": {},
   "outputs": [],
   "source": [
    "import numpy as np\n",
    "import matplotlib.pyplot as plt\n",
    "import sympy as sp\n",
    "import PorticoPlano as PP"
   ]
  },
  {
   "cell_type": "code",
   "execution_count": 2,
   "id": "a87d102b",
   "metadata": {},
   "outputs": [],
   "source": [
    "#Entrada de Dados \n",
    "\n",
    "#Número de nós\n",
    "nn = 4\n",
    "\n",
    "#Coordenadas\n",
    "# XY = np.array('0 0;0 1; 2 1')\n",
    "XY = np.array([[0,0],[0,1],[2,1],[2,0.5]])\n",
    "\n",
    "#Número de elementos\n",
    "ne = 3\n",
    "\n",
    "#Conectividade\n",
    "IJ = np.array([[1,2],[2,3],[3,4]])\n",
    "\n",
    "#Parâmetros dos elementos\n",
    "E = 210e9*np.array([1,1,1])\n",
    "\n",
    "A = 0.01*np.array([1,1,1])\n",
    "\n",
    "I = 0.0002*np.array([1,1,1])\n",
    "\n",
    "#Forças concentradas\n",
    "nf = 4\n",
    "\n",
    "FC  = np.array([[2,1,3000],[2,2,-3000],[2,3,100],[3,1,5000]])\n",
    "\n",
    "nq = 0\n",
    "FQ = np.zeros(0)\n",
    "\n",
    "na = 4\n",
    "\n",
    "AP = np.array([[1,1],[1,2],[4,1],[4,2]])"
   ]
  },
  {
   "cell_type": "code",
   "execution_count": 3,
   "id": "cc8262ae",
   "metadata": {},
   "outputs": [],
   "source": [
    "#Pré Processamento \n",
    "L,θ = PP.MontaLeθ(XY, ne, IJ)\n",
    "\n",
    "K_b = PP.MontaKGlobal(nn,ne,E,A,I,L,θ,IJ)\n",
    "\n",
    "F = PP.MontaFGlobal(nn,nf,FC,L,θ,IJ,nq,FQ)\n",
    "\n",
    "K_mod,F_mod = PP.AplicaCCH(nn,na,AP,K_b,F) \n",
    "\n"
   ]
  },
  {
   "cell_type": "code",
   "execution_count": 6,
   "id": "7ac0ca9f",
   "metadata": {},
   "outputs": [
    {
     "name": "stdout",
     "output_type": "stream",
     "text": [
      "\\left[\\begin{matrix}0.0\\\\0.0\\\\-3.10557487214506 \\cdot 10^{-5}\\\\2.30274608812959 \\cdot 10^{-5}\\\\-2.59151364795359 \\cdot 10^{-7}\\\\-6.97088520098654 \\cdot 10^{-6}\\\\2.20971071057902 \\cdot 10^{-5}\\\\-5.84710031888034 \\cdot 10^{-7}\\\\-3.23353422586418 \\cdot 10^{-5}\\\\0.0\\\\0.0\\\\-5.01236501880496 \\cdot 10^{-5}\\end{matrix}\\right]\n",
      "\\left[\\begin{matrix}-544.217866070251 & -2023.12853571898 & 9.09494701772928 \\cdot 10^{-13} & 544.217866070251 & 2023.12853571898 & -2023.12853571898\\\\-976.871464281023 & 2455.78213392975 & 1923.12853571899 & 976.871464281023 & -2455.78213392975 & 2988.43573214051\\\\-2455.78213392975 & -5976.87146428102 & -2988.43573214051 & 2455.78213392975 & 5976.87146428102 & -3.63797880709171 \\cdot 10^{-12}\\end{matrix}\\right]\n"
     ]
    }
   ],
   "source": [
    "U = np.linalg.solve(K_mod,F_mod)\n",
    "print(sp.latex(sp.Matrix(U)))\n",
    "\n",
    "esforços = PP.EsforcosInternos(ne, E, A, I, L, θ, IJ, U)\n",
    "print(sp.latex(sp.Matrix(esforços)))\n",
    "\n"
   ]
  }
 ],
 "metadata": {
  "kernelspec": {
   "display_name": "Python 3",
   "language": "python",
   "name": "python3"
  },
  "language_info": {
   "codemirror_mode": {
    "name": "ipython",
    "version": 3
   },
   "file_extension": ".py",
   "mimetype": "text/x-python",
   "name": "python",
   "nbconvert_exporter": "python",
   "pygments_lexer": "ipython3",
   "version": "3.13.1"
  }
 },
 "nbformat": 4,
 "nbformat_minor": 5
}
