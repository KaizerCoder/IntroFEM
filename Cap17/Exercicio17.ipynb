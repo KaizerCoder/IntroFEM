{
 "cells": [
  {
   "cell_type": "code",
   "execution_count": 2,
   "id": "424c6eca",
   "metadata": {},
   "outputs": [],
   "source": [
    "import numpy as np\n",
    "import BiLinearIso4Nos as BL4\n",
    "import sympy as sp"
   ]
  },
  {
   "cell_type": "code",
   "execution_count": 6,
   "id": "a87d102b",
   "metadata": {},
   "outputs": [],
   "source": [
    "#Entrada de Dados \n",
    "\n",
    "#Número de nós\n",
    "nn = 6\n",
    "XY = np.array([[0.0,0.0],[0.5,0.0],[1.0,0.0],[0.0,0.1],[0.5,0.1],[1.0,0.1]])\n",
    "ne = 2\n",
    "IJ = np.array([[1,2,5,4],[2,3,6,5]])\n",
    "\n",
    "MAT = np.array([[1e9,0.3],[1e9,0.3]])\n",
    "\n",
    "ESP = np.array([[0.01],[0.01]])\n",
    "\n",
    "na = 5\n",
    "AP = np.array([[1,1,0],[1,2,0],[2,2,0],[3,2,0],[4,1,0]])\n",
    "\n",
    "nc=1\n",
    "P = np.array([[2,2,1,1000]])\n",
    "\n"
   ]
  },
  {
   "cell_type": "code",
   "execution_count": 4,
   "id": "cc8262ae",
   "metadata": {},
   "outputs": [
    {
     "name": "stdout",
     "output_type": "stream",
     "text": [
      "[[ 0.e+00]\n",
      " [ 0.e+00]\n",
      " [ 5.e-07]\n",
      " [ 0.e+00]\n",
      " [ 1.e-06]\n",
      " [ 0.e+00]\n",
      " [ 0.e+00]\n",
      " [-3.e-08]\n",
      " [ 5.e-07]\n",
      " [-3.e-08]\n",
      " [ 1.e-06]\n",
      " [-3.e-08]]\n",
      "\\left[\\begin{matrix}0.0\\\\0.0\\\\5.00000000000001 \\cdot 10^{-7}\\\\0.0\\\\1.0 \\cdot 1 ↪\n",
      "\n",
      "↪ 0^{-6}\\\\0.0\\\\0.0\\\\-3.0 \\cdot 10^{-8}\\\\5.00000000000001 \\cdot 10^{-7}\\\\-3.0 \\ ↪\n",
      "\n",
      "↪ cdot 10^{-8}\\\\1.0 \\cdot 10^{-6}\\\\-3.0 \\cdot 10^{-8}\\end{matrix}\\right]\n"
     ]
    }
   ],
   "source": [
    "#Monta Rigidez Global\n",
    "K_b = BL4.RigidezGlobal(nn,ne,MAT,ESP,XY,IJ)\n",
    "#Monta Força Global\n",
    "F_b = BL4.ForcapGlobal(nn,ESP,XY,IJ,nc,P)\n",
    "#Aplica as CChs homogêneas\n",
    "K_mod,F_mod = BL4.AplicaCCH(nn,na,AP,K_b,F_b)\n",
    "\n",
    "#Calcula o Deslocamento\n",
    "U = np.linalg.solve(K_mod,F_mod)\n",
    "print(U)\n",
    "sp.pprint(sp.latex(sp.Matrix(U)))\n"
   ]
  },
  {
   "cell_type": "code",
   "execution_count": 5,
   "id": "7ac0ca9f",
   "metadata": {},
   "outputs": [
    {
     "name": "stdout",
     "output_type": "stream",
     "text": [
      "[[ 1.00000000e+03]\n",
      " [ 1.13686838e-13]\n",
      " [-1.11910481e-13]\n",
      " [ 1.00000000e+03]\n",
      " [ 0.00000000e+00]\n",
      " [ 1.08357767e-13]]\n",
      "\\left[\\begin{matrix}1000.0\\\\1.13686837721616 \\cdot 10^{-13}\\\\-1.11910480882216 ↪\n",
      "\n",
      "↪  \\cdot 10^{-13}\\\\1000.0\\\\0.0\\\\1.08357767203415 \\cdot 10^{-13}\\end{matrix}\\ri ↪\n",
      "\n",
      "↪ ght]\n"
     ]
    }
   ],
   "source": [
    "#Calcula a Tensão ao longo dos elementos\n",
    "Sigma = BL4.CalculaTensaoMalha(nn,ne,MAT,ESP,XY,IJ,U)\n",
    "print(Sigma)\n",
    "sp.pprint(sp.latex(sp.Matrix(Sigma)))\n"
   ]
  }
 ],
 "metadata": {
  "kernelspec": {
   "display_name": "Python 3",
   "language": "python",
   "name": "python3"
  },
  "language_info": {
   "codemirror_mode": {
    "name": "ipython",
    "version": 3
   },
   "file_extension": ".py",
   "mimetype": "text/x-python",
   "name": "python",
   "nbconvert_exporter": "python",
   "pygments_lexer": "ipython3",
   "version": "3.13.1"
  }
 },
 "nbformat": 4,
 "nbformat_minor": 5
}
