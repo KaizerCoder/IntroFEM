{
 "cells": [
  {
   "cell_type": "code",
   "execution_count": 43,
   "id": "424c6eca",
   "metadata": {},
   "outputs": [],
   "source": [
    "import numpy as np\n",
    "import matplotlib.pyplot as plt\n",
    "import sympy as sp\n",
    "import PorticoPlano as PP"
   ]
  },
  {
   "cell_type": "code",
   "execution_count": 44,
   "id": "a87d102b",
   "metadata": {},
   "outputs": [],
   "source": [
    "#Entrada de Dados \n",
    "\n",
    "#Número de nós\n",
    "nn = 6\n",
    "\n",
    "#Coordenadas\n",
    "XY = np.array([[0,0],[1,1],[2,0],[0,0],[1,1],[2,0]])\n",
    "\n",
    "#Número de elementos\n",
    "ne = 3\n",
    "\n",
    "#Conectividade\n",
    "IJ = np.array([[1,5],[2,6],[3,4]])\n",
    "\n",
    "#Parâmetros dos elementos\n",
    "E = 210e9*np.array([1,1,1])\n",
    "\n",
    "A = 0.01*np.array([1,1,1])\n",
    "\n",
    "I = 0.0002*np.array([1,1,1])\n",
    "\n",
    "#Forças concentradas\n",
    "nf = 2\n",
    "\n",
    "FC  = np.array([[2,2,-100],[3,1,200]])\n",
    "\n",
    "nq = 0\n",
    "FQ = np.zeros(0)\n",
    "\n",
    "# na = 4\n",
    "\n",
    "# AP = np.array([[1,1],[1,2],[4,1],[4,2]])\n",
    "\n",
    "nRL =9\n",
    "RL = np.array([[1,1,0],[1,2,0],[3,2,0],[1,1,4,1,-1],[1,1,4,2,-1],[2,1,5,1,-1],[2,1,5,2,-1],[3,1,6,1,-1],[3,1,6,2,-1]],dtype=object)"
   ]
  },
  {
   "cell_type": "code",
   "execution_count": 45,
   "id": "cc8262ae",
   "metadata": {},
   "outputs": [],
   "source": [
    "#Pré Processamento \n",
    "L,θ = PP.MontaLeθ(XY, ne, IJ)\n",
    "\n",
    "K_b = PP.MontaKGlobal(nn,ne,E,A,I,L,θ,IJ)\n",
    "\n",
    "F = PP.MontaFGlobal(nn,nf,FC,L,θ,IJ,nq,FQ)\n",
    "\n",
    "K_modL,F_modL = PP.AplicaCCLagrange(nn,nRL,RL,K_b,F) \n",
    "\n"
   ]
  },
  {
   "cell_type": "code",
   "execution_count": 46,
   "id": "7ac0ca9f",
   "metadata": {},
   "outputs": [
    {
     "name": "stdout",
     "output_type": "stream",
     "text": [
      "[ 1.42084079e-22 -1.01038267e-22  2.66167869e-22 -3.36717515e-08\n",
      " -1.68358757e-07 -8.94609360e-08  1.90476190e-07 -5.25907270e-37\n",
      "                        -6.28657266e-23]                        \n"
     ]
    }
   ],
   "source": [
    "U_L = np.linalg.solve(K_modL,F_modL)\n",
    "\n",
    "U = U_L[:3*(int(nn/2))]\n",
    "\n",
    "sp.pprint(U)\n",
    "\n",
    "# esforços = PP.EsforcosInternos(ne, E, A, I, L, θ, IJ, U)\n",
    "\n",
    "# print(esforços)"
   ]
  }
 ],
 "metadata": {
  "kernelspec": {
   "display_name": "Python 3",
   "language": "python",
   "name": "python3"
  },
  "language_info": {
   "codemirror_mode": {
    "name": "ipython",
    "version": 3
   },
   "file_extension": ".py",
   "mimetype": "text/x-python",
   "name": "python",
   "nbconvert_exporter": "python",
   "pygments_lexer": "ipython3",
   "version": "3.13.1"
  }
 },
 "nbformat": 4,
 "nbformat_minor": 5
}
