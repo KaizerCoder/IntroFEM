{
 "cells": [
  {
   "cell_type": "code",
   "execution_count": 8,
   "id": "424c6eca",
   "metadata": {},
   "outputs": [],
   "source": [
    "import numpy as np\n",
    "import matplotlib.pyplot as plt\n",
    "import sympy as sp\n",
    "import PorticoPlano as PP"
   ]
  },
  {
   "cell_type": "code",
   "execution_count": 9,
   "id": "a87d102b",
   "metadata": {},
   "outputs": [],
   "source": [
    "#Entrada de Dados \n",
    "\n",
    "#Número de nós\n",
    "nn = 4\n",
    "\n",
    "#Coordenadas\n",
    "# XY = np.array('0 0;0 1; 2 1')\n",
    "XY = np.array([[0,0],[0,1],[2,1],[2,0.5]])\n",
    "\n",
    "#Número de elementos\n",
    "ne = 3\n",
    "\n",
    "#Conectividade\n",
    "IJ = np.array([[1,2],[2,3],[3,4]])\n",
    "\n",
    "#Parâmetros dos elementos\n",
    "E = 210e9*np.array([1,1,1])\n",
    "\n",
    "A = 0.01*np.array([1,1,1])\n",
    "\n",
    "I = 0.0002*np.array([1,1,1])\n",
    "\n",
    "#Forças concentradas\n",
    "nf = 4\n",
    "\n",
    "FC  = np.array([[2,1,3000],[2,2,-3000],[2,3,100],[3,1,5000]])\n",
    "\n",
    "nq = 0\n",
    "FQ = np.zeros(0)\n",
    "\n",
    "# na = 4\n",
    "\n",
    "# AP = np.array([[1,1],[1,2],[4,1],[4,2]])\n",
    "\n",
    "nRL = 4\n",
    "RL = np.array([[1,1,0],[1,2,0],[4,1,0],[4,2,0]])"
   ]
  },
  {
   "cell_type": "code",
   "execution_count": 10,
   "id": "cc8262ae",
   "metadata": {},
   "outputs": [],
   "source": [
    "#Pré Processamento \n",
    "L,θ = PP.MontaLeθ(XY, ne, IJ)\n",
    "\n",
    "K_b = PP.MontaKGlobal(nn,ne,E,A,I,L,θ,IJ)\n",
    "\n",
    "F = PP.MontaFGlobal(nn,nf,FC,L,θ,IJ,nq,FQ)\n",
    "\n",
    "K_modL,F_modL = PP.AplicaCCLagrange(nn,nRL,RL,K_b,F) \n",
    "\n"
   ]
  },
  {
   "cell_type": "code",
   "execution_count": 11,
   "id": "7ac0ca9f",
   "metadata": {},
   "outputs": [
    {
     "name": "stdout",
     "output_type": "stream",
     "text": [
      "[ 7.21821192e-21 -4.40871427e-21 -3.10557487e-05  2.30274609e-05 \n",
      " -2.59151365e-07 -6.97088520e-06  2.20971071e-05 -5.84710032e-07 \n",
      " -3.23353423e-05 -8.80914265e-20  0.00000000e+00 -5.01236502e-05]\n",
      "[array([-5.44217866e+02, -2.02312854e+03,  9.09494702e-13,  5.44217866e+02,\n",
      "        2.02312854e+03, -2.02312854e+03]), array([ -976.87146428,  2455.78213393,  1923.12853572,   976.87146428,\n",
      "       -2455.78213393,  2988.43573214]), array([-2455.78213393, -5976.87146428, -2988.43573214,  2455.78213393,\n",
      "        5976.87146428,     0.        ])]\n"
     ]
    }
   ],
   "source": [
    "U_L = np.linalg.solve(K_modL,F_modL)\n",
    "\n",
    "U = U_L[:3*nn]\n",
    "\n",
    "sp.pprint(U)\n",
    "\n",
    "esforços = PP.EsforcosInternos(ne, E, A, I, L, θ, IJ, U)\n",
    "print(esforços)\n"
   ]
  }
 ],
 "metadata": {
  "kernelspec": {
   "display_name": "Python 3",
   "language": "python",
   "name": "python3"
  },
  "language_info": {
   "codemirror_mode": {
    "name": "ipython",
    "version": 3
   },
   "file_extension": ".py",
   "mimetype": "text/x-python",
   "name": "python",
   "nbconvert_exporter": "python",
   "pygments_lexer": "ipython3",
   "version": "3.13.1"
  }
 },
 "nbformat": 4,
 "nbformat_minor": 5
}
