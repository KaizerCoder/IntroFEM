{
 "cells": [
  {
   "cell_type": "code",
   "execution_count": 2,
   "id": "d85edd7c",
   "metadata": {},
   "outputs": [],
   "source": [
    "# Importa o Sympy\n",
    "import sympy as sp\n",
    "\n",
    "# Importa o Numpy\n",
    "import numpy as np\n",
    "\n",
    "# Importa o Matplot lib\n",
    "import matplotlib.pyplot as plt\n",
    "\n",
    "# Importa o módulo Toolbox\n",
    "import Toolbox as T\n"
   ]
  },
  {
   "cell_type": "code",
   "execution_count": 10,
   "id": "a7a507b9",
   "metadata": {},
   "outputs": [
    {
     "name": "stdout",
     "output_type": "stream",
     "text": [
      "⎡    A⋅L⋅a    ⎤\n",
      "⎢    ─────    ⎥\n",
      "⎢      6      ⎥\n",
      "⎢             ⎥\n",
      "⎢A⋅L⋅a   A⋅L⋅b⎥\n",
      "⎢───── + ─────⎥\n",
      "⎢  6       6  ⎥\n",
      "⎢             ⎥\n",
      "⎢A⋅L⋅b   A⋅L⋅c⎥\n",
      "⎢───── + ─────⎥\n",
      "⎢  6       6  ⎥\n",
      "⎢             ⎥\n",
      "⎢    A⋅L⋅c    ⎥\n",
      "⎢    ─────    ⎥\n",
      "⎣      6      ⎦\n",
      "\\left[\\begin{matrix}\\frac{A L a}{6}\\\\\\frac{A L a}{6} + \\frac{A L b}{6}\\\\\\frac{ ↪\n",
      "\n",
      "↪ A L b}{6} + \\frac{A L c}{6}\\\\\\frac{A L c}{6}\\end{matrix}\\right]\n"
     ]
    }
   ],
   "source": [
    "# Variáveis simbólicas\n",
    "x, L, E, A, alpha = sp.symbols('x L E A alpha')\n",
    "\n",
    "# Parâmetros do modelo\n",
    "n_elem = 3\n",
    "n_nodes = n_elem + 1\n",
    "h = L / n_elem\n",
    "\n",
    "# Funções de forma locais\n",
    "x_local = sp.Symbol('x')\n",
    "N1 = 1 - x_local / h\n",
    "N2 = x_local / h\n",
    "\n",
    "# Derivadas\n",
    "dN1 = sp.diff(N1, x_local)\n",
    "dN2 = sp.diff(N2, x_local)\n",
    "\n",
    "# Inicializar sistema global\n",
    "K_global = sp.zeros(n_nodes)\n",
    "F_global = sp.zeros(n_nodes, 1)\n",
    "a,b,c = sp.symbols('a b c')\n",
    "\n",
    "# Montagem global\n",
    "for e in range(1,n_elem+1):\n",
    "    idx = [e-1, e]\n",
    "    x_e_val = (e-1) * h\n",
    "    \n",
    "    if e ==1:\n",
    "        b_local_e = a\n",
    "    elif e ==2:\n",
    "        b_local_e = b\n",
    "    elif e == 3:\n",
    "        b_local_e = c\n",
    "            \n",
    "    # Matriz de rigidez local\n",
    "    k_local = A * E * sp.Matrix([\n",
    "    [sp.integrate(dN1 * dN1, (x_local, 0, h)), sp.integrate(dN1 * dN2, (x_local, 0, h))],\n",
    "    [sp.integrate(dN2 * dN1, (x_local, 0, h)), sp.integrate(dN2 * dN2, (x_local, 0, h))]\n",
    "    ])\n",
    "    \n",
    "    ## Força Local\n",
    "    f_local_e = sp.Matrix([\n",
    "        sp.integrate(N1 * b_local_e*A, (x_local, 0, h)),\n",
    "        sp.integrate(N2 * b_local_e*A, (x_local, 0, h))\n",
    "    ])\n",
    "\n",
    "    for i in range(2):\n",
    "        for j in range(2):\n",
    "            K_global[idx[i], idx[j]] += k_local[i, j]\n",
    "        F_global[idx[i]] += f_local_e[i]\n",
    "\n",
    "sp.pprint(F_global)\n",
    "sp.pprint(sp.latex(F_global))\n"
   ]
  }
 ],
 "metadata": {
  "kernelspec": {
   "display_name": "Python 3",
   "language": "python",
   "name": "python3"
  },
  "language_info": {
   "codemirror_mode": {
    "name": "ipython",
    "version": 3
   },
   "file_extension": ".py",
   "mimetype": "text/x-python",
   "name": "python",
   "nbconvert_exporter": "python",
   "pygments_lexer": "ipython3",
   "version": "3.13.1"
  }
 },
 "nbformat": 4,
 "nbformat_minor": 5
}
