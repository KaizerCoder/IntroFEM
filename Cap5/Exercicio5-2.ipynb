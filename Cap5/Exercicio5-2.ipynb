{
 "cells": [
  {
   "cell_type": "code",
   "execution_count": 1,
   "id": "d318fdde",
   "metadata": {},
   "outputs": [],
   "source": [
    "# Importa o Sympy\n",
    "import sympy as sp\n",
    "\n",
    "# Importa o Numpy\n",
    "import numpy as np\n",
    "\n",
    "# Importa o Matplot lib\n",
    "import matplotlib.pyplot as plt\n",
    "\n",
    "# Importa o módulo Toolbox\n",
    "import Toolbox as T\n"
   ]
  },
  {
   "cell_type": "code",
   "execution_count": 11,
   "id": "bbb799de",
   "metadata": {},
   "outputs": [
    {
     "name": "stdout",
     "output_type": "stream",
     "text": [
      "⎡ A₁⋅E₁      -A₁⋅E₁             ⎤\n",
      "⎢ ─────      ───────        0   ⎥\n",
      "⎢  L₁          L₁               ⎥\n",
      "⎢                               ⎥\n",
      "⎢-A₁⋅E₁   A₁⋅E₁   A₂⋅E₂  -A₂⋅E₂ ⎥\n",
      "⎢───────  ───── + ─────  ───────⎥\n",
      "⎢  L₁      L₁      L₂      L₂   ⎥\n",
      "⎢                               ⎥\n",
      "⎢            -A₂⋅E₂       A₂⋅E₂ ⎥\n",
      "⎢   0        ───────      ───── ⎥\n",
      "⎣              L₂          L₂   ⎦\n",
      "\\left[\\begin{matrix}\\frac{A_{1} E_{1}}{L_{1}} & - \\frac{A_{1} E_{1}}{L_{1}} &  ↪\n",
      "\n",
      "↪ 0\\\\- \\frac{A_{1} E_{1}}{L_{1}} & \\frac{A_{1} E_{1}}{L_{1}} + \\frac{A_{2} E_{ ↪\n",
      "\n",
      "↪ 2}}{L_{2}} & - \\frac{A_{2} E_{2}}{L_{2}}\\\\0 & - \\frac{A_{2} E_{2}}{L_{2}} &  ↪\n",
      "\n",
      "↪ \\frac{A_{2} E_{2}}{L_{2}}\\end{matrix}\\right]\n",
      "⎡A₁⋅E₁   A₂⋅E₂  -A₂⋅E₂ ⎤\n",
      "⎢───── + ─────  ───────⎥\n",
      "⎢ L₁      L₂      L₂   ⎥\n",
      "⎢                      ⎥\n",
      "⎢   -A₂⋅E₂       A₂⋅E₂ ⎥\n",
      "⎢   ───────      ───── ⎥\n",
      "⎣     L₂          L₂   ⎦\n",
      "\\left[\\begin{matrix}\\frac{A_{1} E_{1}}{L_{1}} + \\frac{A_{2} E_{2}}{L_{2}} & -  ↪\n",
      "\n",
      "↪ \\frac{A_{2} E_{2}}{L_{2}}\\\\- \\frac{A_{2} E_{2}}{L_{2}} & \\frac{A_{2} E_{2}}{ ↪\n",
      "\n",
      "↪ L_{2}}\\end{matrix}\\right]\n"
     ]
    }
   ],
   "source": [
    "## Matriz\n",
    "\n",
    "E1,A1,L1 = sp.symbols('E1 A1 L1')\n",
    "E2,A2,L2 = sp.symbols('E2 A2 L2')\n",
    "\n",
    "\n",
    "t1 = E1*A1/L1\n",
    "t2 = E2*A2/L2\n",
    "\n",
    "Matriz = sp.Matrix([[t1,-t1,0],[-t1,t1+t2,-t2],[0,-t2,t2]])\n",
    "\n",
    "sp.pprint(Matriz)\n",
    "sp.pprint(sp.latex(Matriz))\n",
    "\n",
    "\n",
    "Matriz2 = sp.Matrix([[t1+t2,-t2],[-t2,t2]])\n",
    "sp.pprint(Matriz2)\n",
    "sp.pprint(sp.latex(Matriz2))\n",
    "\n",
    "\n"
   ]
  },
  {
   "cell_type": "code",
   "execution_count": 16,
   "id": "2d2bb6ec",
   "metadata": {},
   "outputs": [
    {
     "name": "stdout",
     "output_type": "stream",
     "text": [
      "[0, √3 + 3, 3 - √3]\n",
      "⎡5   √17  √17   5⎤\n",
      "⎢─ - ───, ─── + ─⎥\n",
      "⎣2    2    2    2⎦\n",
      "\\left[ 0, \\  \\sqrt{3} + 3, \\  3 - \\sqrt{3}\\right]\n",
      "\\left[ \\frac{5}{2} - \\frac{\\sqrt{17}}{2}, \\  \\frac{\\sqrt{17}}{2} + \\frac{5}{2} ↪\n",
      "\n",
      "↪ \\right]\n"
     ]
    }
   ],
   "source": [
    "subs1 = {A1:1,L1:1,E1:1}\n",
    "subs2 = {A2:2,L2:2,E2:2}\n",
    "\n",
    "Autvalor1 = Matriz.subs(subs2).subs(subs1).eigenvals(multiple=True)\n",
    "\n",
    "Autvalor2 = Matriz2.subs(subs2).subs(subs1).eigenvals(multiple=True)\n",
    "\n",
    "sp.pprint(Autvalor1)\n",
    "sp.pprint(Autvalor2)\n",
    "\n",
    "sp.pprint(sp.latex(Autvalor1))\n",
    "sp.pprint(sp.latex(Autvalor2))"
   ]
  }
 ],
 "metadata": {
  "kernelspec": {
   "display_name": "Python 3",
   "language": "python",
   "name": "python3"
  },
  "language_info": {
   "codemirror_mode": {
    "name": "ipython",
    "version": 3
   },
   "file_extension": ".py",
   "mimetype": "text/x-python",
   "name": "python",
   "nbconvert_exporter": "python",
   "pygments_lexer": "ipython3",
   "version": "3.13.1"
  }
 },
 "nbformat": 4,
 "nbformat_minor": 5
}
