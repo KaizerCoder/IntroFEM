{
 "cells": [
  {
   "cell_type": "code",
   "execution_count": 1,
   "metadata": {},
   "outputs": [],
   "source": [
    "# Importa o Sympy\n",
    "import sympy as sp\n",
    "\n",
    "# Importa o Numpy\n",
    "import numpy as np\n",
    "\n",
    "# Importa o Matplot lib\n",
    "import matplotlib.pyplot as plt\n",
    "\n",
    "# Importa o módulo Toolbox\n",
    "import Toolbox as T\n",
    "\n"
   ]
  },
  {
   "cell_type": "code",
   "execution_count": 3,
   "metadata": {
    "notebookRunGroups": {
     "groupValue": "1"
    }
   },
   "outputs": [
    {
     "name": "stdout",
     "output_type": "stream",
     "text": [
      "\\frac{d^{2}}{d x^{2}} T{\\left(x \\right)} = 1\n",
      "           1            \n",
      "           ⌠            \n",
      "(2⋅a₂ - 1)⋅⎮ w(x) dx = 0\n",
      "           ⌡            \n",
      "           0            \n",
      "\\left(2 a_{2} - 1\\right) \\int\\limits_{0}^{1} w{\\left(x \\right)}\\, dx = 0\n"
     ]
    }
   ],
   "source": [
    "# Equação Diferencial\n",
    "# d²T/dx² = 1 ; x E (0,1)\n",
    "\n",
    "\n",
    "# Define variável\n",
    "x = sp.symbols('x')\n",
    "x0 = 0\n",
    "x1 = 1\n",
    "\n",
    "# EDO\n",
    "Temp = sp.Function('T')(x)\n",
    "F = sp.Eq((sp.diff(Temp,x,2)),1)\n",
    "\n",
    "print(sp.latex(F))\n",
    "\n",
    "\n",
    "# Solução analítica:\n",
    "f_analitica = (x**2)/2 - x/2\n",
    "\n",
    "# Solução por Resíduos ponderados:\n",
    "# Base {1,x,x^2}\n",
    "\n",
    "a0 = sp.symbols('a0')\n",
    "a1 = sp.symbols('a1')\n",
    "a2 = sp.symbols('a2')\n",
    "\n",
    "f_residuos_pond = a0+a1*x+a2*x**2\n",
    "\n",
    "# Defino o residuo\n",
    "residuo = sp.diff(f_residuos_pond,x,2) -1\n",
    "\n",
    "# Ortogonalizo em relação a função peso - Integral de 0 a 1 de residuo*w(x) = 0\n",
    "w = sp.Function('w')(x)\n",
    "\n",
    "integral_ortogonalizacao = sp.integrate(residuo*w,(x,x0,x1))\n",
    "\n",
    "eq_ortogonalizacao = sp.Eq(integral_ortogonalizacao, 0)\n",
    "\n",
    "sp.pprint(eq_ortogonalizacao)\n",
    "\n",
    "print(sp.latex(eq_ortogonalizacao))\n",
    "## Com a Equação de Ortogonalização, eu consigo atribuir valores para a base w, e começar a avaliar as soluções"
   ]
  },
  {
   "cell_type": "code",
   "execution_count": 4,
   "metadata": {},
   "outputs": [
    {
     "name": "stdout",
     "output_type": "stream",
     "text": [
      "b_{0} + b_{1} x + b_{2} x^{2}\n",
      "                  2⋅a₂⋅b₂        b₁   b₂\n",
      "2⋅a₂⋅b₀ + a₂⋅b₁ + ─────── - b₀ - ── - ──\n",
      "                     3           2    3 \n",
      " 2    \n",
      "x    x\n",
      "── - ─\n",
      "2    2\n",
      "\\frac{x^{2}}{2} - \\frac{x}{2}\n"
     ]
    }
   ],
   "source": [
    "# Função de ponderação com mesma base que a solução\n",
    "\n",
    "# Base {1,x,x^2}\n",
    "\n",
    "b0 = sp.symbols('b0')\n",
    "b1 = sp.symbols('b1')\n",
    "b2 = sp.symbols('b2')\n",
    "\n",
    "w1 = b0+b1*x+b2*x**2\n",
    "print(sp.latex(w1))\n",
    "\n",
    "# Monta sistema\n",
    "equacoes = []\n",
    "integral = sp.integrate(residuo * w1, (x, x0, x1))\n",
    "sp.pprint(integral)\n",
    "\n",
    "cc1 = sp.Eq(f_residuos_pond.subs(x, 0), 0)\n",
    "cc2 = sp.Eq(f_residuos_pond.subs(x, 1), 0)\n",
    "\n",
    "equacoes.append(integral)\n",
    "# print(sp.latex(integral))\n",
    "equacoes.append(cc1)\n",
    "# print(sp.latex(cc1))\n",
    "\n",
    "equacoes.append(cc2)\n",
    "# print(sp.latex(cc2))\n",
    "\n",
    "\n",
    "\n",
    "# Resolve sistema\n",
    "sol = sp.solve(equacoes, (a0, a1, a2))\n",
    "T_final1 = f_residuos_pond.subs(sol)\n",
    "\n",
    "sp.pprint(T_final1)\n",
    "print(sp.latex(T_final1))\n"
   ]
  },
  {
   "cell_type": "code",
   "execution_count": 5,
   "metadata": {},
   "outputs": [
    {
     "name": "stdout",
     "output_type": "stream",
     "text": [
      "\\delta\\left(x - 0.75\\right) + \\delta\\left(x - 0.5\\right) + \\delta\\left(x - 0.25\\right)\n",
      "6⋅a₂ - 3\n",
      "6 a_{2} - 3\n",
      "a_{0} = 0\n",
      "a_{0} + a_{1} + a_{2} = 0\n",
      " 2    \n",
      "x    x\n",
      "── - ─\n",
      "2    2\n",
      "\\frac{x^{2}}{2} - \\frac{x}{2}\n"
     ]
    }
   ],
   "source": [
    "# Função de ponderação com base de Delta de Dirac\n",
    "\n",
    "b0 = sp.symbols('b0')\n",
    "b1 = sp.symbols('b1')\n",
    "b2 = sp.symbols('b2')\n",
    "\n",
    "# w2 = b0 * sp.DiracDelta(x - 1/4) + b1 * sp.DiracDelta(x - 1/2) + b2 * sp.DiracDelta(x - 3/4)\n",
    "w2 = sp.DiracDelta(x - 1/4) + sp.DiracDelta(x - 1/2) + sp.DiracDelta(x - 3/4)\n",
    "print(sp.latex(w2))\n",
    "\n",
    "# Monta sistema\n",
    "equacoes = []\n",
    "integral = sp.integrate(residuo * w2, (x, x0, x1))\n",
    "sp.pprint(integral)\n",
    "\n",
    "cc1 = sp.Eq(f_residuos_pond.subs(x, 0), 0)\n",
    "cc2 = sp.Eq(f_residuos_pond.subs(x, 1), 0)\n",
    "\n",
    "equacoes.append(integral)\n",
    "print(sp.latex(integral))\n",
    "equacoes.append(cc1)\n",
    "print(sp.latex(cc1))\n",
    "\n",
    "equacoes.append(cc2)\n",
    "print(sp.latex(cc2))\n",
    "\n",
    "\n",
    "\n",
    "# Resolve sistema\n",
    "sol = sp.solve(equacoes, (a0, a1, a2))\n",
    "T_final2 = f_residuos_pond.subs(sol)\n",
    "\n",
    "sp.pprint(T_final2)\n",
    "print(sp.latex(T_final2))\n"
   ]
  },
  {
   "cell_type": "code",
   "execution_count": 8,
   "metadata": {},
   "outputs": [
    {
     "data": {
      "image/png": "[encoded data removed]",
      "text/plain": [
       "<Figure size 640x480 with 1 Axes>"
      ]
     },
     "metadata": {},
     "output_type": "display_data"
    },
    {
     "name": "stdout",
     "output_type": "stream",
     "text": [
      "\\theta\\left(x, 0\\right) - \\theta\\left(x - 1, 1\\right) + \\theta\\left(x - 0.6, 0\\right) - \\theta\\left(x - 0.5, 1\\right) + \\theta\\left(x - 0.3, 0\\right) - \\theta\\left(x - 0.2, 1\\right)\n",
      "1.6⋅a₂ - 0.8\n",
      "1.6 a_{2} - 0.8\n",
      "a_{0} = 0\n",
      "a_{0} + a_{1} + a_{2} = 0\n",
      "     2        \n",
      "0.5⋅x  - 0.5⋅x\n",
      "0.5 x^{2} - 0.5 x\n"
     ]
    }
   ],
   "source": [
    "# Função de ponderação com base de Heaviside\n",
    "\n",
    "# Base {1,x,x^2}\n",
    "\n",
    "b0 = sp.symbols('b0')\n",
    "b1 = sp.symbols('b1')\n",
    "b2 = sp.symbols('b2')\n",
    "\n",
    "w3 = (sp.Heaviside(x - 0,0) - sp.Heaviside(x - 0.2,1)) + (sp.Heaviside(x - 0.3,0) - sp.Heaviside(x - 0.5,1)) + (sp.Heaviside(x - 0.6,0) - sp.Heaviside(x - 1,1))\n",
    "# w3 = (sp.Heaviside(x - 0) - sp.Heaviside(x - 0.2)) + (sp.Heaviside(x - 0.3) - sp.Heaviside(x - 0.5)) + (sp.Heaviside(x - 0.6) - sp.Heaviside(x - 1))\n",
    "T.prepara_plot(w3,x,x0,x1,\"Heaviside\")\n",
    "plt.xlabel('x')\n",
    "plt.ylabel('W(x)')\n",
    "plt.show()\n",
    "\n",
    "print(sp.latex(w3))\n",
    "\n",
    "# Monta sistema\n",
    "equacoes = []\n",
    "integral = sp.integrate(residuo * w3, (x, x0, x1))\n",
    "sp.pprint(integral)\n",
    "\n",
    "cc1 = sp.Eq(f_residuos_pond.subs(x, 0), 0)\n",
    "cc2 = sp.Eq(f_residuos_pond.subs(x, 1), 0)\n",
    "\n",
    "equacoes.append(integral)\n",
    "print(sp.latex(integral))\n",
    "equacoes.append(cc1)\n",
    "print(sp.latex(cc1))\n",
    "\n",
    "equacoes.append(cc2)\n",
    "print(sp.latex(cc2))\n",
    "\n",
    "\n",
    "\n",
    "# Resolve sistema\n",
    "sol = sp.solve(equacoes, (a0, a1, a2))\n",
    "T_final3 = f_residuos_pond.subs(sol)\n",
    "\n",
    "sp.pprint(T_final3)\n",
    "print(sp.latex(T_final3))\n"
   ]
  }
 ],
 "metadata": {
  "kernelspec": {
   "display_name": "Python 3",
   "language": "python",
   "name": "python3"
  },
  "language_info": {
   "codemirror_mode": {
    "name": "ipython",
    "version": 3
   },
   "file_extension": ".py",
   "mimetype": "text/x-python",
   "name": "python",
   "nbconvert_exporter": "python",
   "pygments_lexer": "ipython3",
   "version": "3.13.1"
  }
 },
 "nbformat": 4,
 "nbformat_minor": 2
}
