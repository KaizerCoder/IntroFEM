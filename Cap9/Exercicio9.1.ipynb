{
 "cells": [
  {
   "cell_type": "code",
   "execution_count": 1,
   "id": "e300cebc",
   "metadata": {},
   "outputs": [],
   "source": [
    "import numpy as np\n",
    "import matplotlib.pyplot as plt\n",
    "import sympy as sp\n",
    "import Barra "
   ]
  },
  {
   "cell_type": "code",
   "execution_count": 2,
   "id": "29c93db5",
   "metadata": {},
   "outputs": [],
   "source": [
    "## Dados\n",
    "nn = 3\n",
    "\n",
    "XY = np.matrix('0 0;1 1; 2 0')\n",
    "\n",
    "ne = 3\n",
    "\n",
    "IJ = np.matrix('1 2; 2 3; 1 3')\n",
    "\n",
    "E = 210*10**9*np.array([1,1,1])\n",
    "\n",
    "A = 0.01*np.array([1,1,1])\n",
    "\n",
    "nf = 2\n",
    "\n",
    "FC  = np.matrix('2 2 -100; 3 1 200')\n",
    "\n",
    "na = 3\n",
    "\n",
    "AP = np.matrix('1 1; 1 2; 3 2')\n",
    "##"
   ]
  },
  {
   "cell_type": "code",
   "execution_count": 3,
   "id": "99688584",
   "metadata": {},
   "outputs": [
    {
     "name": "stdout",
     "output_type": "stream",
     "text": [
      "L: [1.41421356 1.41421356 2.        ]\n",
      "\\mathtt{\\text{[1.41421356 1.41421356 2.        ]}}\n",
      "θ: [ 0.78539816 -0.78539816  0.        ]\n",
      "\\mathtt{\\text{[ 0.78539816 -0.78539816  0.        ]}}\n",
      "F: [   0.    0.    0. -100.  200.    0.]\n",
      "\\mathtt{\\text{[   0.    0.    0. -100.  200.    0.]}}\n"
     ]
    }
   ],
   "source": [
    "#Pré Processamento \n",
    "L,θ = Barra.MontaLeθ(XY, ne, IJ)\n",
    "print(f\"L: {L}\")\n",
    "print(sp.latex(L))\n",
    "print(f\"θ: {θ}\")\n",
    "print(sp.latex(θ))\n",
    "\n",
    "K = Barra.MontaKGlobal(nn,ne,E,A,L,θ,IJ)\n",
    "\n",
    "F = Barra.MontaFGlobal(nn,nf,FC)\n",
    "print(f\"F: {F}\")\n",
    "print(sp.latex(F))\n",
    "\n",
    "\n",
    "K,F = Barra.AplicaCCH(nn,na,AP,K,F)"
   ]
  },
  {
   "cell_type": "code",
   "execution_count": 4,
   "id": "cd8447e4",
   "metadata": {},
   "outputs": [
    {
     "name": "stdout",
     "output_type": "stream",
     "text": [
      "U:[ 0.00000000e+00  0.00000000e+00  1.19047619e-07 -1.86391122e-07\n",
      "  2.38095238e-07  0.00000000e+00]\n",
      "\\mathtt{\\text{[ 0.00000000e+00  0.00000000e+00  1.19047619e-07 -1.86391122e-07\n",
      "  2.38095238e-07  0.00000000e+00]}}\n",
      "N :[-70.71067812 -70.71067812 250.        ]\n",
      "\\mathtt{\\text{[-70.71067812 -70.71067812 250.        ]}}\n"
     ]
    }
   ],
   "source": [
    "#Processamento\n",
    "U = np.linalg.solve(K,F)\n",
    "print(f\"U:{U}\")\n",
    "print(sp.latex(U))\n",
    "\n",
    "N = Barra.EsforcosInternos(ne,E,A,L,θ,IJ,U)\n",
    "print(f\"N :{N}\")\n",
    "print(sp.latex(N))\n"
   ]
  }
 ],
 "metadata": {
  "kernelspec": {
   "display_name": "Python 3",
   "language": "python",
   "name": "python3"
  },
  "language_info": {
   "codemirror_mode": {
    "name": "ipython",
    "version": 3
   },
   "file_extension": ".py",
   "mimetype": "text/x-python",
   "name": "python",
   "nbconvert_exporter": "python",
   "pygments_lexer": "ipython3",
   "version": "3.13.1"
  }
 },
 "nbformat": 4,
 "nbformat_minor": 5
}
