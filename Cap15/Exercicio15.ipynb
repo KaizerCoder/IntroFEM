{
 "cells": [
  {
   "cell_type": "code",
   "execution_count": 13,
   "id": "424c6eca",
   "metadata": {},
   "outputs": [],
   "source": [
    "import numpy as np\n",
    "import matplotlib.pyplot as plt\n",
    "import sympy as sp\n"
   ]
  },
  {
   "cell_type": "code",
   "execution_count": 16,
   "id": "a87d102b",
   "metadata": {},
   "outputs": [],
   "source": [
    "a0,a1,a2,a3,a4,a5 = sp.symbols('a0 a1 a2 a3 a4 a5')\n",
    "r = sp.symbols('r')\n",
    "r1,r2,r3 = sp.symbols('r1 r2 r3')\n",
    "w1,w2,w3 = sp.symbols('w1 w2 w3')\n",
    "\n",
    "base_a = (a0,a1,a2,a3,a4,a5)\n",
    "base = (r1,r2,r3,w1,w2,w3)"
   ]
  },
  {
   "cell_type": "code",
   "execution_count": 22,
   "id": "cc8262ae",
   "metadata": {},
   "outputs": [
    {
     "name": "stdout",
     "output_type": "stream",
     "text": [
      "2 a_{0} + \\frac{2 a_{2}}{3} + \\frac{2 a_{4}}{5}\n",
      "⎧           -√15       √15                           ⎫\n",
      "⎨r₁: 0, r₂: ─────, r₃: ───, w₁: 8/9, w₂: 5/9, w₃: 5/9⎬\n",
      "⎩             5         5                            ⎭\n",
      "\\left\\{ r_{1} : 0, \\  r_{2} : - \\frac{\\sqrt{15}}{5}, \\  r_{3} : \\frac{\\sqrt{15 ↪\n",
      "\n",
      "↪ }}{5}, \\  w_{1} : \\frac{8}{9}, \\  w_{2} : \\frac{5}{9}, \\  w_{3} : \\frac{5}{9 ↪\n",
      "\n",
      "↪ }\\right\\}\n"
     ]
    }
   ],
   "source": [
    "p = a0 + a1*r + a2*r**2+a3*r**3+a4*r**4+a5*r**5\n",
    "\n",
    "eq1 = 2*a0+2*a2/3 + 2*a4/5\n",
    "sp.pprint(sp.latex(eq1))\n",
    "\n",
    "\n",
    "eq2 = w1*p.subs(r,r1)+w2*p.subs(r,r2)+w3*p.subs(r,r3)\n",
    "\n",
    "\n",
    "eqs = [sp.collect((eq1-eq2).expand(),a,evaluate=False).get(a,0) for a in base_a]\n",
    "\n",
    "sol = sp.solve(eqs,base,dict=True)\n",
    "\n",
    "sp.pprint(sol[0])\n",
    "\n",
    "sp.pprint(sp.latex(sol[0]))\n"
   ]
  },
  {
   "cell_type": "code",
   "execution_count": null,
   "id": "7ac0ca9f",
   "metadata": {},
   "outputs": [],
   "source": []
  }
 ],
 "metadata": {
  "kernelspec": {
   "display_name": "Python 3",
   "language": "python",
   "name": "python3"
  },
  "language_info": {
   "codemirror_mode": {
    "name": "ipython",
    "version": 3
   },
   "file_extension": ".py",
   "mimetype": "text/x-python",
   "name": "python",
   "nbconvert_exporter": "python",
   "pygments_lexer": "ipython3",
   "version": "3.13.1"
  }
 },
 "nbformat": 4,
 "nbformat_minor": 5
}
