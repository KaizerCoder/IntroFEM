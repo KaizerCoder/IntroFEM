{
 "cells": [
  {
   "cell_type": "code",
   "execution_count": 13,
   "id": "424c6eca",
   "metadata": {},
   "outputs": [],
   "source": [
    "import numpy as np\n",
    "import Elementos2D as BL4\n",
    "import sympy as sp\n",
    "import meshio\n",
    "import Malha2D"
   ]
  },
  {
   "cell_type": "code",
   "execution_count": 14,
   "id": "a87d102b",
   "metadata": {},
   "outputs": [
    {
     "name": "stdout",
     "output_type": "stream",
     "text": [
      "\n"
     ]
    }
   ],
   "source": [
    "#Entrada de Dados \n",
    "#Nesses Dics devemos ter os nomes das propriedades iguais dos nossos Physical Groups\n",
    "Materiais = {\"MAT1\":[1e9,0.3]}\n",
    "#Nome do Apoio(igual do Physical Group:\"direção a restringir o movimento(x,y ou engaste(ambos))\")\n",
    "apoios = {\"Engaste1\":\"y\",\"Engaste2\":\"x\"}\n",
    "#Carregamento em Face: \"Nome da Carga(igual do Physical Group\", direção:1= normal, 2 = tangencial,valor]\n",
    "cargas = [(\"CARGA\",1,1000)]\n",
    "\n",
    "arquivo = \"chapaTracao.msh\"\n",
    "\n",
    "#Gera Malha\n",
    "Malha2D.Gerar_chapa_tracao(\"ChapaTracao.msh\",L=1.0,R=0.3,p_fino=0.01,p_grosso=0.05)\n",
    "\n",
    "#Retorna as propriedades\n",
    "nn, XY, ne, IJ, MAT, ESP, na, AP, nc, P = Malha2D.Processar_malha2D(arquivo,Materiais,apoios,cargas,espessura=0.01)\n"
   ]
  },
  {
   "cell_type": "code",
   "execution_count": 15,
   "id": "cc8262ae",
   "metadata": {},
   "outputs": [],
   "source": [
    "#Monta Rigidez Global\n",
    "K_b = BL4.RigidezGlobal(nn,ne,MAT,ESP,XY,IJ)\n",
    "#Monta Força Global\n",
    "F_b = BL4.ForcapGlobal(nn,ESP,XY,IJ,nc,P)\n",
    "#Aplica as CChs homogêneas\n",
    "K_mod,F_mod = BL4.AplicaCCH(nn,na,AP,K_b,F_b)\n",
    "\n",
    "#Calcula o Deslocamento\n",
    "U = np.linalg.solve(K_mod,F_mod)\n",
    "\n",
    "\n",
    "detJ = BL4.CalculaDetJ(ne,XY,IJ)\n",
    "\n",
    "#Calcula a Tensão ao longo dos elementos\n",
    "Sigma = BL4.CalculaTensaoMalha(nn,ne,MAT,ESP,XY,IJ,U)\n",
    "\n",
    "\n",
    "#Calcula Von Mises\n",
    "TVM = BL4.TensaoVonMises2D(ne,Sigma)"
   ]
  },
  {
   "cell_type": "code",
   "execution_count": 16,
   "id": "3621896f",
   "metadata": {},
   "outputs": [],
   "source": [
    "#Gera Malha com resultados\n",
    "Malha2D.Exporta_para_Gmsh(arquivo,IJ, XY, U, TVM,detJ)\n",
    "Malha2D.AbreVisualizacaoGmsh(arquivo)"
   ]
  }
 ],
 "metadata": {
  "kernelspec": {
   "display_name": "Python 3",
   "language": "python",
   "name": "python3"
  },
  "language_info": {
   "codemirror_mode": {
    "name": "ipython",
    "version": 3
   },
   "file_extension": ".py",
   "mimetype": "text/x-python",
   "name": "python",
   "nbconvert_exporter": "python",
   "pygments_lexer": "ipython3",
   "version": "3.13.1"
  }
 },
 "nbformat": 4,
 "nbformat_minor": 5
}
