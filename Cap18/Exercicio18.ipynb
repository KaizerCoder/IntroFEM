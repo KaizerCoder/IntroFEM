{
 "cells": [
  {
   "cell_type": "code",
   "execution_count": 4,
   "id": "424c6eca",
   "metadata": {},
   "outputs": [],
   "source": [
    "import numpy as np\n",
    "import BiLinearIso4Nos as BL4\n",
    "import sympy as sp\n",
    "import meshio\n",
    "import GeraBarraGmsh"
   ]
  },
  {
   "cell_type": "code",
   "execution_count": 5,
   "id": "a87d102b",
   "metadata": {},
   "outputs": [
    {
     "name": "stdout",
     "output_type": "stream",
     "text": [
      "\n"
     ]
    }
   ],
   "source": [
    "#Entrada de Dados \n",
    "#Nesses Dics devemos ter os nomes das propriedades iguais dos nossos Physical Groups\n",
    "Materiais = {\"MAT1\":[1e9,0.3]}\n",
    "#Nome do Apoio(igual do Physical Group:\"direção a restringir o movimento(x,y ou engaste(ambos))\")\n",
    "apoios = {\"Sx\":\"x\",\"Sy\":\"y\"}\n",
    "#Carregamento em Face: \"Nome da Carga(igual do Physical Group\", direção:1= normal, 2 = tangencial,valor]\n",
    "cargas = [(\"LOAD\",1,1000)]\n",
    "\n",
    "#Gera Malha\n",
    "GeraBarraGmsh.gerar_barra_tracao(\"barraTracao3.msh\",L=1,h=0.1,nx=100,ny=10)\n",
    "\n",
    "#Retorna as propriedades\n",
    "nn, XY, ne, IJ, MAT, ESP, na, AP, nc, P = GeraBarraGmsh.processar_malhappp(\"barraTracao3.msh\",Materiais,apoios,cargas)\n"
   ]
  },
  {
   "cell_type": "code",
   "execution_count": 6,
   "id": "cc8262ae",
   "metadata": {},
   "outputs": [],
   "source": [
    "\n",
    "#Monta Rigidez Global\n",
    "K_b = BL4.RigidezGlobal(nn,ne,MAT,ESP,XY,IJ)\n",
    "#Monta Força Global\n",
    "F_b = BL4.ForcapGlobal(nn,ESP,XY,IJ,nc,P)\n",
    "#Aplica as CChs homogêneas\n",
    "K_mod,F_mod = BL4.AplicaCCH(nn,na,AP,K_b,F_b)\n",
    "\n",
    "#Calcula o Deslocamento\n",
    "U = np.linalg.solve(K_mod,F_mod)\n",
    "\n",
    "#Calcula a Tensão ao longo dos elementos\n",
    "Sigma = BL4.CalculaTensaoMalha(nn,ne,MAT,ESP,XY,IJ,U)\n",
    "\n",
    "#Calcula Tensão de Von Mises\n",
    "TVM = BL4.TensaoVonMises2D(ne,Sigma)"
   ]
  },
  {
   "cell_type": "code",
   "execution_count": 7,
   "id": "3621896f",
   "metadata": {},
   "outputs": [],
   "source": [
    "#Gera Malha com resultados\n",
    "GeraBarraGmsh.export_to_gmsh_post(\"BarraResultado3.msh\", XY, U, TVM,IJ )"
   ]
  }
 ],
 "metadata": {
  "kernelspec": {
   "display_name": "Python 3",
   "language": "python",
   "name": "python3"
  },
  "language_info": {
   "codemirror_mode": {
    "name": "ipython",
    "version": 3
   },
   "file_extension": ".py",
   "mimetype": "text/x-python",
   "name": "python",
   "nbconvert_exporter": "python",
   "pygments_lexer": "ipython3",
   "version": "3.13.1"
  }
 },
 "nbformat": 4,
 "nbformat_minor": 5
}
