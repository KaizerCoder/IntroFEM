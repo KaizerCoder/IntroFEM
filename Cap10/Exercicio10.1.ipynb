{
 "cells": [
  {
   "cell_type": "code",
   "execution_count": 1,
   "id": "2102cc32",
   "metadata": {},
   "outputs": [],
   "source": [
    "# Importa o Sympy\n",
    "import sympy as sp\n",
    "\n",
    "# Importa o Numpy\n",
    "import numpy as np\n",
    "\n",
    "# Importa o Matplot lib\n",
    "import matplotlib.pyplot as plt\n",
    "\n",
    "# Importa o módulo Toolbox\n",
    "import Toolbox as T"
   ]
  },
  {
   "cell_type": "code",
   "execution_count": null,
   "id": "2b20d410",
   "metadata": {},
   "outputs": [
    {
     "name": "stdout",
     "output_type": "stream",
     "text": [
      "\\frac{c_{1} x^{3}}{6} + \\frac{c_{2} x^{2}}{2} + c_{3} x + c_{4} + \\frac{q_{1}  ↪\n",
      "\n",
      "↪ \\left(\\frac{L x^{4}}{24} - \\frac{x^{5}}{120}\\right)}{L} + \\frac{q_{2} x^{5}} ↪\n",
      "\n",
      "↪ {120 L}\n",
      " 2 ⎛ 2                                           2                 3⎞\n",
      "x ⋅⎝L ⋅(L⋅(3⋅q₁ + 2⋅q₂) - x⋅(7⋅q₁ + 3⋅q₂)) + q₁⋅x ⋅(5⋅L - x) + q₂⋅x ⎠\n",
      "─────────────────────────────────────────────────────────────────────\n",
      "                                120⋅L                                \n",
      "\\frac{x^{2} \\left(L^{2} \\left(L \\left(3 q_{1} + 2 q_{2}\\right) - x \\left(7 q_{ ↪\n",
      "\n",
      "↪ 1} + 3 q_{2}\\right)\\right) + q_{1} x^{2} \\left(5 L - x\\right) + q_{2} x^{3}\\ ↪\n",
      "\n",
      "↪ right)}{120 L}\n",
      "⎡⎧                            2       2                 ⎫⎤\n",
      "⎢⎪      7⋅L⋅q₁   3⋅L⋅q₂      L ⋅q₁   L ⋅q₂              ⎪⎥\n",
      "⎢⎨c₁: - ────── - ──────, c₂: ───── + ─────, c₃: 0, c₄: 0⎬⎥\n",
      "⎢⎪        20       20         20      30                ⎪⎥\n",
      "⎣⎩                                                      ⎭⎦\n"
     ]
    }
   ],
   "source": [
    "x = sp.symbols('x')\n",
    "EI = sp.symbols('EI')\n",
    "L = sp.symbols('L')\n",
    "q1,q2 = sp.symbols('q1 q2')\n",
    "c1,c2,c3,c4 = sp.symbols('c1 c2 c3 c4')\n",
    "\n",
    "# Forma desenvolvida da equação\n",
    "Eq = (q1/L)*(((L*x**4)/24) -((x**5)/120))+(q2/L)*((x**5)/120)+c1*(x**3)/6 + c2*(x**2)/2 + c3*x+c4\n",
    "\n",
    "sp.pprint(sp.latex(Eq))\n",
    "dEq = sp.diff(Eq,x)\n",
    "\n",
    "v,t = T.compatibiliza_cc_com_derivada(Eq,x,[c1,c2,c3,c4],[('valor',0,0),('valor',L,0),('derivada',0,0),('derivada',L,0)])\n",
    "\n",
    "v = v.simplify()\n",
    "sp.pprint(v)\n",
    "sp.pprint(sp.latex(v))\n",
    "\n",
    "sp.pprint(t)\n",
    "\n"
   ]
  },
  {
   "cell_type": "code",
   "execution_count": 133,
   "id": "3d88d16b",
   "metadata": {},
   "outputs": [
    {
     "name": "stdout",
     "output_type": "stream",
     "text": [
      "V1:EI*L*(7*q1 + 3*q2)/20\n",
      "\\frac{EI L \\left(7 q_{1} + 3 q_{2}\\right)}{20}\n",
      "M1:EI*L**2*(3*q1 + 2*q2)/60\n",
      "\\frac{EI L^{2} \\left(3 q_{1} + 2 q_{2}\\right)}{60}\n",
      "V2:EI*L*(3*q1 + 7*q2)/20\n",
      "\\frac{EI L \\left(3 q_{1} + 7 q_{2}\\right)}{20}\n",
      "M2:-EI*L**2*(2*q1 + 3*q2)/60\n",
      "- \\frac{EI L^{2} \\left(2 q_{1} + 3 q_{2}\\right)}{60}\n"
     ]
    }
   ],
   "source": [
    "V1,V2,M1,M2 = sp.symbols('V1 V2 M1 M2')\n",
    "M = sp.diff(EI*v,x,2).simplify()\n",
    "# sp.pprint(f\"M:{M}\")\n",
    "\n",
    "V = sp.diff(sp.diff(v,x,2)*(-EI),x).simplify()\n",
    "# sp.pprint(f\"v:{V}\")\n",
    "V1 = V.subs(x,0).simplify()\n",
    "sp.pprint(f\"V1:{V1}\")\n",
    "sp.pprint(sp.latex(V1))\n",
    "M1 = M.subs(x,0).simplify()\n",
    "sp.pprint(f\"M1:{M1}\")\n",
    "sp.pprint(sp.latex(M1))\n",
    "V2 = -V.subs(x,L).simplify()\n",
    "sp.pprint(f\"V2:{V2}\")\n",
    "sp.pprint(sp.latex(V2))\n",
    "M2 = -M.subs(x,L).simplify()\n",
    "sp.pprint(f\"M2:{M2}\")\n",
    "sp.pprint(sp.latex(M2))\n",
    "\n"
   ]
  },
  {
   "cell_type": "code",
   "execution_count": 98,
   "id": "ef5e8d90",
   "metadata": {},
   "outputs": [
    {
     "name": "stdout",
     "output_type": "stream",
     "text": [
      "⎡ 12⋅EI    6⋅EI   -12⋅EI    6⋅EI ⎤\n",
      "⎢ ─────    ────   ───────   ──── ⎥\n",
      "⎢   3        2       3        2  ⎥\n",
      "⎢  L        L       L        L   ⎥\n",
      "⎢                                ⎥\n",
      "⎢ 6⋅EI     4⋅EI   -6⋅EI     2⋅EI ⎥\n",
      "⎢ ────     ────   ──────    ──── ⎥\n",
      "⎢   2       L        2       L   ⎥\n",
      "⎢  L                L            ⎥\n",
      "⎢                                ⎥\n",
      "⎢-12⋅EI   -6⋅EI    12⋅EI   -6⋅EI ⎥\n",
      "⎢───────  ──────   ─────   ──────⎥\n",
      "⎢   3        2       3        2  ⎥\n",
      "⎢  L        L       L        L   ⎥\n",
      "⎢                                ⎥\n",
      "⎢ 6⋅EI     2⋅EI   -6⋅EI     4⋅EI ⎥\n",
      "⎢ ────     ────   ──────    ──── ⎥\n",
      "⎢   2       L        2       L   ⎥\n",
      "⎣  L                L            ⎦\n",
      "\\left[\\begin{matrix}\\frac{12 EI}{L^{3}} & \\frac{6 EI}{L^{2}} & - \\frac{12 EI}{ ↪\n",
      "\n",
      "↪ L^{3}} & \\frac{6 EI}{L^{2}}\\\\\\frac{6 EI}{L^{2}} & \\frac{4 EI}{L} & - \\frac{6 ↪\n",
      "\n",
      "↪  EI}{L^{2}} & \\frac{2 EI}{L}\\\\- \\frac{12 EI}{L^{3}} & - \\frac{6 EI}{L^{2}} & ↪\n",
      "\n",
      "↪  \\frac{12 EI}{L^{3}} & - \\frac{6 EI}{L^{2}}\\\\\\frac{6 EI}{L^{2}} & \\frac{2 EI ↪\n",
      "\n",
      "↪ }{L} & - \\frac{6 EI}{L^{2}} & \\frac{4 EI}{L}\\end{matrix}\\right]\n"
     ]
    }
   ],
   "source": [
    "xi = sp.Symbol('xi')\n",
    "\n",
    "# Funções de forma Hermite em termos de x\n",
    "N1 = 1 - (3*xi**2)/L**2 + (2*xi**3)/L**3\n",
    "N2 = xi - (2*xi**2)/L + (xi**3)/L**2\n",
    "N3 = (3*xi**2)/L**2 - (2*xi**3)/L**3\n",
    "N4 = ((-xi**2)/L + (xi**3)/L**2)\n",
    "\n",
    "# Vetor de funções de forma\n",
    "N = sp.Matrix([N1, N2, N3, N4])\n",
    "\n",
    "# Segunda derivada em xi\n",
    "d2N_dx2 = N.diff(xi, 2)\n",
    "\n",
    "# Derivada segunda em x: d²N/dx² = (1/L²) * d²N/dxi²\n",
    "# d2N_dx2 = d2N_dxi2 / L**2\n",
    "\n",
    "# Matriz B (4x1), e K = EI * ∫ Bᵀ B dx = EI/L^3 * ∫ (d²N/dxi²)ᵀ (d²N/dxi²) dxi * L\n",
    "B = d2N_dx2\n",
    "\n",
    "# Integração simbólica da matriz de rigidez\n",
    "K_local = sp.simplify(sp.integrate(B * B.T, (xi, 0, L))) * EI   # (resultado em EI / L^3)\n",
    "\n",
    "sp.pprint(K_local)\n",
    "sp.pprint(sp.latex(K_local))\n"
   ]
  },
  {
   "cell_type": "code",
   "execution_count": 130,
   "id": "3ba6ad48",
   "metadata": {},
   "outputs": [
    {
     "name": "stdout",
     "output_type": "stream",
     "text": [
      "⎡12⋅EI   ⎤\n",
      "⎢─────  0⎥\n",
      "⎢  3     ⎥\n",
      "⎢ L      ⎥\n",
      "⎢        ⎥\n",
      "⎣  0    1⎦\n",
      "⎡ 0  ⎤\n",
      "⎢    ⎥\n",
      "⎢4⋅EI⎥\n",
      "⎢────⎥\n",
      "⎣ L  ⎦\n"
     ]
    }
   ],
   "source": [
    "#Vamos testar uma força unitária no nó 1:\n",
    "\n",
    "F1 = sp.Matrix([12*EI/L**3,0])\n",
    "F2 = sp.Matrix([0,4*EI/L])\n",
    "#Matriz de rigidez red\n",
    "K_red = sp.Matrix([[0,0],[0,0]])\n",
    "# sp.pprint(K_red)\n",
    "for i in range(2):\n",
    "    for j in range(2):\n",
    "        K_red[i,j] = K_local[i,j]\n",
    "\n",
    "# K_red[0,0] = 1\n",
    "K_red[1,0] = 0\n",
    "K_red[0,1] = 0\n",
    "K_red[1,1] = 1\n",
    "\n",
    "sp.pprint(K_red)\n",
    "U1 = K_red.LUsolve(F2)\n",
    "sp.pprint(U1)\n",
    "# U2 = K_red.LUsolve(F2)\n",
    "# sp.pprint(U2)\n",
    "\n"
   ]
  }
 ],
 "metadata": {
  "kernelspec": {
   "display_name": "Python 3",
   "language": "python",
   "name": "python3"
  },
  "language_info": {
   "codemirror_mode": {
    "name": "ipython",
    "version": 3
   },
   "file_extension": ".py",
   "mimetype": "text/x-python",
   "name": "python",
   "nbconvert_exporter": "python",
   "pygments_lexer": "ipython3",
   "version": "3.13.1"
  }
 },
 "nbformat": 4,
 "nbformat_minor": 5
}
