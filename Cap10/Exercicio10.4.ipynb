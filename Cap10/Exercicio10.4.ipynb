{
 "cells": [
  {
   "cell_type": "code",
   "execution_count": 2,
   "id": "2102cc32",
   "metadata": {},
   "outputs": [],
   "source": [
    "# Importa o Sympy\n",
    "import sympy as sp\n",
    "\n",
    "# Importa o Numpy\n",
    "import numpy as np\n",
    "\n",
    "# Importa o Matplot lib\n",
    "import matplotlib.pyplot as plt\n",
    "\n",
    "# Importa o módulo Toolbox\n",
    "import Toolbox as T"
   ]
  },
  {
   "cell_type": "code",
   "execution_count": null,
   "id": "54c5f033",
   "metadata": {},
   "outputs": [
    {
     "name": "stdout",
     "output_type": "stream",
     "text": [
      "⎡⎧      2               ⎫⎤\n",
      "⎢⎪    -L ⋅q₀            ⎪⎥\n",
      "⎢⎨Ma: ───────, Ra: -L⋅q₀⎬⎥\n",
      "⎢⎪       2              ⎪⎥\n",
      "⎣⎩                      ⎭⎦\n",
      "    3       2       4\n",
      "c₁⋅x    c₂⋅x    q₀⋅x \n",
      "───── + ───── + ─────\n",
      "  6       2     24⋅EI\n",
      "    2 ⎛   2            2⎞\n",
      "q₀⋅x ⋅⎝6⋅L  - 4⋅L⋅x + x ⎠\n",
      "─────────────────────────\n",
      "          24⋅EI          \n",
      "\\frac{q_{0} x^{2} \\left(6 L^{2} - 4 L x + x^{2}\\right)}{24 EI}\n",
      " 4   \n",
      "L ⋅q₀\n",
      "─────\n",
      "8⋅EI \n",
      " 3   \n",
      "L ⋅q₀\n",
      "─────\n",
      "6⋅EI \n",
      "0\n",
      "0\n"
     ]
    }
   ],
   "source": [
    "#Resolve Analitico\n",
    "x = sp.symbols('x')\n",
    "EI = sp.symbols('EI')\n",
    "L = sp.symbols('L')\n",
    "q0 = sp.symbols('q0')\n",
    "c1,c2,c3,c4 = sp.symbols('c1 c2 c3 c4')\n",
    "\n",
    "#Reações\n",
    "Ra = sp.symbols('Ra')\n",
    "Ma = sp.symbols('Ma')\n",
    "\n",
    "# Eq = (q0/(24*EI))*(x**4) +c1*(x**3)/6 + c2*(x**2)/2 + c3*x+c4\n",
    "\n",
    "v = (q0/(24*EI))*(x**4) +c1*(x**3)/6 + c2*(x**2)/2\n",
    "\n",
    "# v,t = T.compatibiliza_cc_com_derivada(Eq,x,[c3,c4],[('valor',0,0),('derivada',x,0)])\n",
    "# sp.pprint(v)\n",
    "\n",
    "\n",
    "\n",
    "#Equilibrio estático:\n",
    "Eq1 = Ra + sp.integrate(q0,(x,0,L))\n",
    "Eq2 = Ma + sp.integrate(q0*x,(x,0,L))\n",
    "\n",
    "solA1 = sp.solve([Eq1,Eq2],[Ra,Ma],dict=True)\n",
    "sp.pprint(solA1)\n",
    "\n",
    "#Finaliza sistema\n",
    "M = EI*sp.diff(v,x,2).simplify()\n",
    "V = -sp.diff(M,x).simplify()\n",
    "# sp.pprint(V)\n",
    "# sp.pprint(M)\n",
    "\n",
    "Eq3 = (V.subs(x,L)).subs(solA1[0])\n",
    "Eq4 = (M.subs(x,L)).subs(solA1[0])\n",
    "\n",
    "solA2 = sp.solve([Eq3,Eq4],[c1,c2,c3,c4],dict=True)\n",
    "# sp.pprint(solA2)\n",
    "sp.pprint(v)\n",
    "\n",
    "v = v.subs(solA2[0]).simplify()\n",
    "sp.pprint(v)\n",
    "sp.pprint(sp.latex(v))\n",
    "\n",
    "vL = v.subs(x,L)\n",
    "thetaL  = (sp.diff(v,x)).subs(x,L)\n",
    "\n",
    "sp.pprint(vL.simplify())\n",
    "sp.pprint(thetaL.simplify())\n"
   ]
  },
  {
   "cell_type": "code",
   "execution_count": null,
   "id": "2b20d410",
   "metadata": {},
   "outputs": [
    {
     "name": "stdout",
     "output_type": "stream",
     "text": [
      "⎡ 12⋅EI    6⋅EI   -12⋅EI    6⋅EI ⎤\n",
      "⎢ ─────    ────   ───────   ──── ⎥\n",
      "⎢   3        2       3        2  ⎥\n",
      "⎢  L        L       L        L   ⎥\n",
      "⎢                                ⎥\n",
      "⎢ 6⋅EI     4⋅EI   -6⋅EI     2⋅EI ⎥\n",
      "⎢ ────     ────   ──────    ──── ⎥\n",
      "⎢   2       L        2       L   ⎥\n",
      "⎢  L                L            ⎥\n",
      "⎢                                ⎥\n",
      "⎢-12⋅EI   -6⋅EI    12⋅EI   -6⋅EI ⎥\n",
      "⎢───────  ──────   ─────   ──────⎥\n",
      "⎢   3        2       3        2  ⎥\n",
      "⎢  L        L       L        L   ⎥\n",
      "⎢                                ⎥\n",
      "⎢ 6⋅EI     2⋅EI   -6⋅EI     4⋅EI ⎥\n",
      "⎢ ────     ────   ──────    ──── ⎥\n",
      "⎢   2       L        2       L   ⎥\n",
      "⎣  L                L            ⎦\n",
      "⎡ L⋅q₀  ⎤\n",
      "⎢ ────  ⎥\n",
      "⎢  2    ⎥\n",
      "⎢       ⎥\n",
      "⎢  2    ⎥\n",
      "⎢ L ⋅q₀ ⎥\n",
      "⎢ ───── ⎥\n",
      "⎢  12   ⎥\n",
      "⎢       ⎥\n",
      "⎢ L⋅q₀  ⎥\n",
      "⎢ ────  ⎥\n",
      "⎢  2    ⎥\n",
      "⎢       ⎥\n",
      "⎢  2    ⎥\n",
      "⎢-L ⋅q₀ ⎥\n",
      "⎢───────⎥\n",
      "⎣  12   ⎦\n"
     ]
    }
   ],
   "source": [
    "x = sp.symbols('x')\n",
    "EI = sp.symbols('EI')\n",
    "L = sp.symbols('L')\n",
    "q1,q2= sp.symbols('q1 q2')\n",
    "q0 = sp.symbols('q0')\n",
    "\n",
    "# Funções de forma Hermite\n",
    "N1 = (2*x**3)/L**3 - (3*x**2)/L**2 + 1\n",
    "N2 = (x**3)/L**2 - (2*x**2)/L + x\n",
    "N3 = (3*x**2)/L**2 - (2*x**3)/L**3\n",
    "N4 = (x**3)/L**2-(x**2)/L\n",
    "\n",
    "# Vetor de funções de forma\n",
    "N = sp.Matrix([N1, N2, N3, N4])\n",
    "\n",
    "# Segunda derivada em x\n",
    "d2N_dx2 = N.diff(x, 2)\n",
    "\n",
    "B = d2N_dx2\n",
    "\n",
    "# Integração simbólica da matriz de rigidez\n",
    "K = sp.simplify(sp.integrate(B * B.T, (x, 0, L))) * EI\n",
    "K = sp.Matrix(K)\n",
    "sp.pprint(K)\n",
    "\n",
    "\n",
    "Q = sp.Matrix([[(3*L*q2+7*L*q1)/20],[(2*(L**2)*q2+3*(L**2)*q1)/60],[(3*L*q1+7*L*q2)/20],[-(2*(L**2)*q1+3*(L**2)*q2)/60]])\n",
    "Q = Q.subs(q1,q0).subs(q2,q0)\n",
    "sp.pprint(Q)"
   ]
  },
  {
   "cell_type": "code",
   "execution_count": 5,
   "id": "3d88d16b",
   "metadata": {},
   "outputs": [
    {
     "name": "stdout",
     "output_type": "stream",
     "text": [
      "⎡12⋅EI   -6⋅EI ⎤\n",
      "⎢─────   ──────⎥\n",
      "⎢  3        2  ⎥\n",
      "⎢ L        L   ⎥\n",
      "⎢              ⎥\n",
      "⎢-6⋅EI    4⋅EI ⎥\n",
      "⎢──────   ──── ⎥\n",
      "⎢   2      L   ⎥\n",
      "⎣  L           ⎦\n",
      "⎡ L⋅q₀  ⎤\n",
      "⎢ ────  ⎥\n",
      "⎢  2    ⎥\n",
      "⎢       ⎥\n",
      "⎢  2    ⎥\n",
      "⎢-L ⋅q₀ ⎥\n",
      "⎢───────⎥\n",
      "⎣  12   ⎦\n"
     ]
    }
   ],
   "source": [
    "\n",
    "#Aplicando as CCs, U[1]=0 e U[3] = 0\n",
    "CCs = [1,2]\n",
    "K_mod = K[2:,2:]\n",
    "Q_mod = sp.zeros(2,1)\n",
    "Q_mod[0] = Q[2]\n",
    "Q_mod[1] = Q[3]\n",
    "# K_mod = K\n",
    "# Q_mod = Q\n",
    "# K_mod = sp.zeros(2)\n",
    "# Q_mod = sp.zeros(2,1)\n",
    "# for l in range(len(CCs)):\n",
    "#     glg = CCs[l]\n",
    "#     # sp.pprint(glg)\n",
    "#     #Zera linha e coluna da Matriz\n",
    "#     for i in range(4):\n",
    "#         K_mod[i,glg-1] = 0\n",
    "#         K_mod[(glg-1),i] = 0\n",
    "#     #Coloca 1 na diagonal\n",
    "#     K_mod[glg-1,glg-1] = 1\n",
    "    \n",
    "#     Q_mod[glg-1] = 0\n",
    "\n",
    "sp.pprint(K_mod)\n",
    "sp.pprint(Q_mod)"
   ]
  },
  {
   "cell_type": "code",
   "execution_count": 12,
   "id": "ef5e8d90",
   "metadata": {},
   "outputs": [
    {
     "name": "stdout",
     "output_type": "stream",
     "text": [
      "\\left[\\begin{matrix}0\\\\0\\\\\\frac{L^{4} q_{0}}{8 EI}\\\\\\frac{L^{3} q_{0}}{6 EI}\\e ↪\n",
      "\n",
      "↪ nd{matrix}\\right]\n",
      "⎡      ⎛   2      3⎞         ⎛   2    3⎞⎤\n",
      "⎢ 4    ⎜3⋅x    2⋅x ⎟    3    ⎜  x    x ⎟⎥\n",
      "⎢L ⋅q₀⋅⎜──── - ────⎟   L ⋅q₀⋅⎜- ── + ──⎟⎥\n",
      "⎢      ⎜  2      3 ⎟         ⎜  L     2⎟⎥\n",
      "⎢      ⎝ L      L  ⎠         ⎝       L ⎠⎥\n",
      "⎢─────────────────── + ─────────────────⎥\n",
      "⎣       8⋅EI                 6⋅EI       ⎦\n",
      "\\frac{L q_{0} x^{2} \\left(5 L - 2 x\\right)}{24 EI}\n",
      "\\left[\\begin{matrix}- L q_{0}\\\\- \\frac{L^{2} q_{0}}{2}\\\\0\\\\0\\end{matrix}\\right]\n"
     ]
    }
   ],
   "source": [
    "U = K_mod.solve(Q_mod)\n",
    "U = sp.Matrix([0,0]+list(U))\n",
    "sp.pprint(sp.latex(U))\n",
    "\n",
    "v_interpolado = (N.T * U)\n",
    "sp.pprint(v_interpolado)\n",
    "sp.pprint(sp.latex(v_interpolado[0].simplify()))\n",
    "\n",
    "# sp.pprint(K)\n",
    "# sp.pprint(Q)\n",
    "\n",
    "Reacoes = K*U-Q\n",
    "sp.pprint(sp.latex(Reacoes))\n"
   ]
  },
  {
   "cell_type": "code",
   "execution_count": 13,
   "id": "2ec0ad83",
   "metadata": {},
   "outputs": [
    {
     "data": {
      "image/png": "[encoded data removed]",
      "text/plain": [
       "<Figure size 640x480 with 1 Axes>"
      ]
     },
     "metadata": {},
     "output_type": "display_data"
    }
   ],
   "source": [
    "subb = {q0:500,EI:1000,L:1}\n",
    "T.prepara_plot(v.subs(subb),x,0,1,'Analítico')\n",
    "T.prepara_plot(v_interpolado[0].subs(subb),x,0,1,f'Interpolado')\n",
    "plt.xlabel('x')\n",
    "plt.ylabel('v(x)')\n",
    "plt.grid(True)\n",
    "plt.legend()\n",
    "plt.show()\n"
   ]
  }
 ],
 "metadata": {
  "kernelspec": {
   "display_name": "Python 3",
   "language": "python",
   "name": "python3"
  },
  "language_info": {
   "codemirror_mode": {
    "name": "ipython",
    "version": 3
   },
   "file_extension": ".py",
   "mimetype": "text/x-python",
   "name": "python",
   "nbconvert_exporter": "python",
   "pygments_lexer": "ipython3",
   "version": "3.13.1"
  }
 },
 "nbformat": 4,
 "nbformat_minor": 5
}
