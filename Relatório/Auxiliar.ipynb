{
 "cells": [
  {
   "cell_type": "code",
   "execution_count": 23,
   "id": "424c6eca",
   "metadata": {},
   "outputs": [],
   "source": [
    "import numpy as np\n",
    "import Elementos3D as H3D\n",
    "import sympy as sp\n",
    "import meshio\n",
    "import Malha3D"
   ]
  },
  {
   "cell_type": "code",
   "execution_count": 24,
   "id": "a87d102b",
   "metadata": {},
   "outputs": [
    {
     "name": "stdout",
     "output_type": "stream",
     "text": [
      "\\mathtt{\\text{N1 = (1 - r)*(1 - s)*(1 - t)}}\n",
      "\\mathtt{\\text{N2 = (1 - s)*(1 - t)*(r + 1)}}\n",
      "\\mathtt{\\text{N3 = (1 - t)*(r + 1)*(s + 1)}}\n",
      "\\mathtt{\\text{N4 = (1 - r)*(1 - t)*(s + 1)}}\n",
      "\\mathtt{\\text{N5 = (1 - r)*(1 - s)*(t + 1)}}\n",
      "\\mathtt{\\text{N6 = (1 - s)*(r + 1)*(t + 1)}}\n",
      "\\mathtt{\\text{N7 = (r + 1)*(s + 1)*(t + 1)}}\n",
      "\\mathtt{\\text{N8 = (1 - r)*(s + 1)*(t + 1)}}\n",
      "\\left(1 - r\\right) \\left(1 - s\\right) \\left(1 - t\\right)\n",
      "\\left(1 - s\\right) \\left(1 - t\\right) \\left(r + 1\\right)\n",
      "\\left(1 - t\\right) \\left(r + 1\\right) \\left(s + 1\\right)\n",
      "\\left(1 - r\\right) \\left(1 - t\\right) \\left(s + 1\\right)\n",
      "\\left(1 - r\\right) \\left(1 - s\\right) \\left(t + 1\\right)\n",
      "\\left(1 - s\\right) \\left(r + 1\\right) \\left(t + 1\\right)\n",
      "\\left(r + 1\\right) \\left(s + 1\\right) \\left(t + 1\\right)\n",
      "\\left(1 - r\\right) \\left(s + 1\\right) \\left(t + 1\\right)\n"
     ]
    }
   ],
   "source": [
    "from sympy import symbols, S\n",
    "\n",
    "# Definir as variáveis simbólicas r, s e t\n",
    "r, s, t = symbols('r s t')\n",
    "\n",
    "# Definir as oito fórmulas\n",
    "# O uso de S(1)/8 garante que a divisão seja tratada como simbólica (racional)\n",
    "N1 = (1 - r) * (1 - s) * (1 - t)\n",
    "N2 = (1 + r) * (1 - s) * (1 - t)\n",
    "N3 = (1 + r) * (1 + s) * (1 - t)\n",
    "N4 = (1 - r) * (1 + s) * (1 - t)\n",
    "N5 = (1 - r) * (1 - s) * (1 + t)\n",
    "N6 = (1 + r) * (1 - s) * (1 + t)\n",
    "N7 = (1 + r) * (1 + s) * (1 + t)\n",
    "N8 = (1 - r) * (1 + s) * (1 + t)\n",
    "\n",
    "# Você pode imprimir as expressões para verificar se foram inseridas corretamente\n",
    "sp.pprint(sp.latex(f\"N1 = {N1}\"))\n",
    "sp.pprint(sp.latex(f\"N2 = {N2}\"))\n",
    "sp.pprint(sp.latex(f\"N3 = {N3}\"))\n",
    "sp.pprint(sp.latex(f\"N4 = {N4}\"))\n",
    "sp.pprint(sp.latex(f\"N5 = {N5}\"))\n",
    "sp.pprint(sp.latex(f\"N6 = {N6}\"))\n",
    "sp.pprint(sp.latex(f\"N7 = {N7}\"))\n",
    "sp.pprint(sp.latex(f\"N8 = {N8}\"))\n",
    "\n",
    "sp.pprint(sp.latex(N1))\n",
    "sp.pprint(sp.latex(N2))\n",
    "sp.pprint(sp.latex(N3))\n",
    "sp.pprint(sp.latex(N4))\n",
    "sp.pprint(sp.latex(N5))\n",
    "sp.pprint(sp.latex(N6))\n",
    "sp.pprint(sp.latex(N7))\n",
    "sp.pprint(sp.latex(N8))\n",
    "\n"
   ]
  },
  {
   "cell_type": "code",
   "execution_count": null,
   "id": "ec167e54",
   "metadata": {},
   "outputs": [
    {
     "ename": "SyntaxError",
     "evalue": "unexpected character after line continuation character (1388952230.py, line 1)",
     "output_type": "error",
     "traceback": [
      "  \u001b[36mCell\u001b[39m\u001b[36m \u001b[39m\u001b[32mIn[25]\u001b[39m\u001b[32m, line 1\u001b[39m\n\u001b[31m    \u001b[39m\u001b[31m\\mathtt{\\text{N1 = \\frac{1}{8}*(1 - r)*(1 - s)*(1 - t)}}\\\\\u001b[39m\n     ^\n\u001b[31mSyntaxError\u001b[39m\u001b[31m:\u001b[39m unexpected character after line continuation character\n"
     ]
    }
   ],
   "source": [
    "\\frac{1}{8}\\left(1 - r\\right) \\left(1 - s\\right) \\left(1 - t\\right)\n",
    "\\frac{1}{8}\\left(1 - s\\right) \\left(1 - t\\right) \\left(r + 1\\right)\n",
    "\\frac{1}{8}\\left(1 - t\\right) \\left(r + 1\\right) \\left(s + 1\\right)\n",
    "\\frac{1}{8}\\left(1 - r\\right) \\left(1 - t\\right) \\left(s + 1\\right)\n",
    "\\frac{1}{8}\\left(1 - r\\right) \\left(1 - s\\right) \\left(t + 1\\right)\n",
    "\\frac{1}{8}\\left(1 - s\\right) \\left(r + 1\\right) \\left(t + 1\\right)\n",
    "\\frac{1}{8}\\left(r + 1\\right) \\left(s + 1\\right) \\left(t + 1\\right)\n",
    "\\frac{1}{8}\\left(1 - r\\right) \\left(s + 1\\right) \\left(t + 1\\right)"
   ]
  },
  {
   "cell_type": "code",
   "execution_count": null,
   "id": "700e7b1e",
   "metadata": {},
   "outputs": [],
   "source": [
    "Malha3D.Exporta_para_Gmsh(arquivo,IJ, XYZ, U,TVM)\n",
    "Malha3D.AbreVisualizacaoGmsh(arquivo)"
   ]
  },
  {
   "cell_type": "code",
   "execution_count": null,
   "id": "dfaae2cc",
   "metadata": {},
   "outputs": [
    {
     "name": "stdout",
     "output_type": "stream",
     "text": [
      "\n"
     ]
    }
   ],
   "source": [
    "#Sem bolha - n=3:\n",
    "#Monta Rigidez Global\n",
    "n = 3\n",
    "Malha3D.Gerar_Viga_Flexao3D_Corrigido(arquivo,L=1,h=0.1,t=0.1,nx=10*n,ny=n,nz=n,show_gui=False)\n",
    "nn, XYZ, ne, IJ, MAT, na, AP, nc, P = Malha3D.Processar_malha3D(arquivo,Materiais,apoios,cargas)\n",
    "\n",
    "K_b = H3D.RigidezGlobal(nn,ne,MAT,XYZ,IJ,bolha=False)\n",
    "#Monta Força Global\n",
    "F_b = H3D.ForcapGlobal(nn,XYZ,IJ,nc,P)\n",
    "#Aplica as CChs homogêneas\n",
    "K_mod,F_mod = H3D.AplicaCCH(nn,na,AP,K_b,F_b)\n",
    "\n",
    "#Calcula o Deslocamento\n",
    "U = np.linalg.solve(K_mod,F_mod)\n",
    "\n",
    "#Calcula a Tensão ao longo dos elementos\n",
    "Sigma = H3D.CalculaTensaoMalha(nn,ne,MAT,XYZ,IJ,U,bolha=False)\n",
    "\n",
    "# #Calcula Von Mises\n",
    "TVM = H3D.TensaoVonMises3D(ne,Sigma)\n"
   ]
  },
  {
   "cell_type": "code",
   "execution_count": null,
   "id": "2882c490",
   "metadata": {},
   "outputs": [],
   "source": [
    "Malha3D.Exporta_para_Gmsh(arquivo,IJ, XYZ, U,TVM)\n",
    "Malha3D.AbreVisualizacaoGmsh(arquivo)"
   ]
  },
  {
   "cell_type": "code",
   "execution_count": null,
   "id": "91eb06b1",
   "metadata": {},
   "outputs": [
    {
     "name": "stdout",
     "output_type": "stream",
     "text": [
      "\n"
     ]
    }
   ],
   "source": [
    "#Sem bolha - n=5:\n",
    "#Monta Rigidez Global\n",
    "n = 5\n",
    "Malha3D.Gerar_Viga_Flexao3D_Corrigido(arquivo,L=1,h=0.1,t=0.1,nx=10*n,ny=n,nz=n,show_gui=False)\n",
    "nn, XYZ, ne, IJ, MAT, na, AP, nc, P = Malha3D.Processar_malha3D(arquivo,Materiais,apoios,cargas)\n",
    "\n",
    "K_b = H3D.RigidezGlobal(nn,ne,MAT,XYZ,IJ,bolha=False)\n",
    "#Monta Força Global\n",
    "F_b = H3D.ForcapGlobal(nn,XYZ,IJ,nc,P)\n",
    "#Aplica as CChs homogêneas\n",
    "K_mod,F_mod = H3D.AplicaCCH(nn,na,AP,K_b,F_b)\n",
    "\n",
    "#Calcula o Deslocamento\n",
    "U = np.linalg.solve(K_mod,F_mod)\n",
    "\n",
    "#Calcula a Tensão ao longo dos elementos\n",
    "Sigma = H3D.CalculaTensaoMalha(nn,ne,MAT,XYZ,IJ,U,bolha=False)\n",
    "\n",
    "# #Calcula Von Mises\n",
    "TVM = H3D.TensaoVonMises3D(ne,Sigma)\n"
   ]
  },
  {
   "cell_type": "code",
   "execution_count": null,
   "id": "d55cf518",
   "metadata": {},
   "outputs": [],
   "source": [
    "Malha3D.Exporta_para_Gmsh(arquivo,IJ, XYZ, U,TVM)\n",
    "Malha3D.AbreVisualizacaoGmsh(arquivo)"
   ]
  },
  {
   "cell_type": "code",
   "execution_count": null,
   "id": "0664240f",
   "metadata": {},
   "outputs": [
    {
     "name": "stdout",
     "output_type": "stream",
     "text": [
      "\n"
     ]
    }
   ],
   "source": [
    "#Sem bolha - n=7:\n",
    "#Monta Rigidez Global\n",
    "n = 7\n",
    "Malha3D.Gerar_Viga_Flexao3D_Corrigido(arquivo,L=1,h=0.1,t=0.1,nx=10*n,ny=n,nz=n,show_gui=False)\n",
    "nn, XYZ, ne, IJ, MAT, na, AP, nc, P = Malha3D.Processar_malha3D(arquivo,Materiais,apoios,cargas)\n",
    "\n",
    "K_b = H3D.RigidezGlobal(nn,ne,MAT,XYZ,IJ,bolha=False)\n",
    "#Monta Força Global\n",
    "F_b = H3D.ForcapGlobal(nn,XYZ,IJ,nc,P)\n",
    "#Aplica as CChs homogêneas\n",
    "K_mod,F_mod = H3D.AplicaCCH(nn,na,AP,K_b,F_b)\n",
    "\n",
    "#Calcula o Deslocamento\n",
    "U = np.linalg.solve(K_mod,F_mod)\n",
    "\n",
    "#Calcula a Tensão ao longo dos elementos\n",
    "Sigma = H3D.CalculaTensaoMalha(nn,ne,MAT,XYZ,IJ,U,bolha=False)\n",
    "\n",
    "# #Calcula Von Mises\n",
    "TVM = H3D.TensaoVonMises3D(ne,Sigma)\n"
   ]
  },
  {
   "cell_type": "code",
   "execution_count": null,
   "id": "b3253a47",
   "metadata": {},
   "outputs": [],
   "source": [
    "Malha3D.Exporta_para_Gmsh(arquivo,IJ, XYZ, U,TVM)\n",
    "Malha3D.AbreVisualizacaoGmsh(arquivo)"
   ]
  },
  {
   "cell_type": "code",
   "execution_count": null,
   "id": "cc8262ae",
   "metadata": {},
   "outputs": [
    {
     "name": "stdout",
     "output_type": "stream",
     "text": [
      "\n"
     ]
    }
   ],
   "source": [
    "#Com bolha - n=1:\n",
    "n=1\n",
    "Malha3D.Gerar_Viga_Flexao3D_Corrigido(arquivo,L=1,h=0.1,t=0.1,nx=10*n,ny=n,nz=n,show_gui=False)\n",
    "nn, XYZ, ne, IJ, MAT, na, AP, nc, P = Malha3D.Processar_malha3D(arquivo,Materiais,apoios,cargas)\n",
    "#Monta Rigidez Global\n",
    "K_b = H3D.RigidezGlobal(nn,ne,MAT,XYZ,IJ,bolha=True)\n",
    "#Monta Força Global\n",
    "F_b = H3D.ForcapGlobal(nn,XYZ,IJ,nc,P)\n",
    "#Aplica as CChs homogêneas\n",
    "K_mod,F_mod = H3D.AplicaCCH(nn,na,AP,K_b,F_b)\n",
    "\n",
    "#Calcula o Deslocamento\n",
    "U = np.linalg.solve(K_mod,F_mod)\n",
    "\n",
    "#Calcula a Tensão ao longo dos elementos\n",
    "Sigma = H3D.CalculaTensaoMalha(nn,ne,MAT,XYZ,IJ,U,bolha=True)\n",
    "\n",
    "# #Calcula Von Mises\n",
    "TVM = H3D.TensaoVonMises3D(ne,Sigma)"
   ]
  },
  {
   "cell_type": "code",
   "execution_count": null,
   "id": "3621896f",
   "metadata": {},
   "outputs": [],
   "source": [
    "Malha3D.Exporta_para_Gmsh(arquivo,IJ, XYZ, U,TVM)\n",
    "Malha3D.AbreVisualizacaoGmsh(arquivo)"
   ]
  },
  {
   "cell_type": "code",
   "execution_count": null,
   "id": "b6b38797",
   "metadata": {},
   "outputs": [
    {
     "name": "stdout",
     "output_type": "stream",
     "text": [
      "\n"
     ]
    }
   ],
   "source": [
    "#Com bolha - n=2:\n",
    "n=2\n",
    "Malha3D.Gerar_Viga_Flexao3D_Corrigido(arquivo,L=1,h=0.1,t=0.1,nx=10*n,ny=n,nz=n,show_gui=False)\n",
    "nn, XYZ, ne, IJ, MAT, na, AP, nc, P = Malha3D.Processar_malha3D(arquivo,Materiais,apoios,cargas)\n",
    "#Monta Rigidez Global\n",
    "K_b = H3D.RigidezGlobal(nn,ne,MAT,XYZ,IJ,bolha=True)\n",
    "#Monta Força Global\n",
    "F_b = H3D.ForcapGlobal(nn,XYZ,IJ,nc,P)\n",
    "#Aplica as CChs homogêneas\n",
    "K_mod,F_mod = H3D.AplicaCCH(nn,na,AP,K_b,F_b)\n",
    "\n",
    "#Calcula o Deslocamento\n",
    "U = np.linalg.solve(K_mod,F_mod)\n",
    "\n",
    "#Calcula a Tensão ao longo dos elementos\n",
    "Sigma = H3D.CalculaTensaoMalha(nn,ne,MAT,XYZ,IJ,U,bolha=True)\n",
    "\n",
    "# #Calcula Von Mises\n",
    "TVM = H3D.TensaoVonMises3D(ne,Sigma)"
   ]
  },
  {
   "cell_type": "code",
   "execution_count": null,
   "id": "097076b7",
   "metadata": {},
   "outputs": [],
   "source": [
    "Malha3D.Exporta_para_Gmsh(arquivo,IJ, XYZ, U,TVM)\n",
    "Malha3D.AbreVisualizacaoGmsh(arquivo)"
   ]
  },
  {
   "cell_type": "code",
   "execution_count": null,
   "id": "65ffb2f7",
   "metadata": {},
   "outputs": [
    {
     "name": "stdout",
     "output_type": "stream",
     "text": [
      "\n"
     ]
    }
   ],
   "source": [
    "#Com bolha - n=3:\n",
    "n=3\n",
    "Malha3D.Gerar_Viga_Flexao3D_Corrigido(arquivo,L=1,h=0.1,t=0.1,nx=10*n,ny=n,nz=n,show_gui=False)\n",
    "nn, XYZ, ne, IJ, MAT, na, AP, nc, P = Malha3D.Processar_malha3D(arquivo,Materiais,apoios,cargas)\n",
    "#Monta Rigidez Global\n",
    "K_b = H3D.RigidezGlobal(nn,ne,MAT,XYZ,IJ,bolha=True)\n",
    "#Monta Força Global\n",
    "F_b = H3D.ForcapGlobal(nn,XYZ,IJ,nc,P)\n",
    "#Aplica as CChs homogêneas\n",
    "K_mod,F_mod = H3D.AplicaCCH(nn,na,AP,K_b,F_b)\n",
    "\n",
    "#Calcula o Deslocamento\n",
    "U = np.linalg.solve(K_mod,F_mod)\n",
    "\n",
    "#Calcula a Tensão ao longo dos elementos\n",
    "Sigma = H3D.CalculaTensaoMalha(nn,ne,MAT,XYZ,IJ,U,bolha=True)\n",
    "\n",
    "# #Calcula Von Mises\n",
    "TVM = H3D.TensaoVonMises3D(ne,Sigma)"
   ]
  },
  {
   "cell_type": "code",
   "execution_count": null,
   "id": "5d979778",
   "metadata": {},
   "outputs": [],
   "source": [
    "Malha3D.Exporta_para_Gmsh(arquivo,IJ, XYZ, U,TVM)\n",
    "Malha3D.AbreVisualizacaoGmsh(arquivo)"
   ]
  },
  {
   "cell_type": "code",
   "execution_count": null,
   "id": "0601a6cd",
   "metadata": {},
   "outputs": [
    {
     "name": "stdout",
     "output_type": "stream",
     "text": [
      "\n"
     ]
    }
   ],
   "source": [
    "#Com bolha - n=5:\n",
    "n=5\n",
    "Malha3D.Gerar_Viga_Flexao3D_Corrigido(arquivo,L=1,h=0.1,t=0.1,nx=10*n,ny=n,nz=n,show_gui=False)\n",
    "nn, XYZ, ne, IJ, MAT, na, AP, nc, P = Malha3D.Processar_malha3D(arquivo,Materiais,apoios,cargas)\n",
    "#Monta Rigidez Global\n",
    "K_b = H3D.RigidezGlobal(nn,ne,MAT,XYZ,IJ,bolha=True)\n",
    "#Monta Força Global\n",
    "F_b = H3D.ForcapGlobal(nn,XYZ,IJ,nc,P)\n",
    "#Aplica as CChs homogêneas\n",
    "K_mod,F_mod = H3D.AplicaCCH(nn,na,AP,K_b,F_b)\n",
    "\n",
    "#Calcula o Deslocamento\n",
    "U = np.linalg.solve(K_mod,F_mod)\n",
    "\n",
    "#Calcula a Tensão ao longo dos elementos\n",
    "Sigma = H3D.CalculaTensaoMalha(nn,ne,MAT,XYZ,IJ,U,bolha=True)\n",
    "\n",
    "# #Calcula Von Mises\n",
    "TVM = H3D.TensaoVonMises3D(ne,Sigma)"
   ]
  },
  {
   "cell_type": "code",
   "execution_count": null,
   "id": "307214a8",
   "metadata": {},
   "outputs": [],
   "source": [
    "Malha3D.Exporta_para_Gmsh(arquivo,IJ, XYZ, U,TVM,None,None,P)\n",
    "Malha3D.AbreVisualizacaoGmsh(arquivo)"
   ]
  }
 ],
 "metadata": {
  "kernelspec": {
   "display_name": "Python 3",
   "language": "python",
   "name": "python3"
  },
  "language_info": {
   "codemirror_mode": {
    "name": "ipython",
    "version": 3
   },
   "file_extension": ".py",
   "mimetype": "text/x-python",
   "name": "python",
   "nbconvert_exporter": "python",
   "pygments_lexer": "ipython3",
   "version": "3.13.1"
  }
 },
 "nbformat": 4,
 "nbformat_minor": 5
}
