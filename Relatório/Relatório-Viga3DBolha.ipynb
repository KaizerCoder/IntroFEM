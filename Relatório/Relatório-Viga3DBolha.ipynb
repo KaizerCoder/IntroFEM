{
 "cells": [
  {
   "cell_type": "code",
   "execution_count": 1,
   "id": "424c6eca",
   "metadata": {},
   "outputs": [],
   "source": [
    "import numpy as np\n",
    "import Elementos3D as H3D\n",
    "import sympy as sp\n",
    "import meshio\n",
    "import Malha3D"
   ]
  },
  {
   "cell_type": "code",
   "execution_count": 2,
   "id": "a87d102b",
   "metadata": {},
   "outputs": [],
   "source": [
    "#Entrada de Dados \n",
    "\n",
    "# #Gera Malha(básica)\n",
    "arquivo = 'Viga3D.msh'\n",
    "\n",
    "Materiais = {\"MAT1\":[10e3,0]}\n",
    "apoios = {'ENGASTE':'xyz'}\n",
    "cargas = [(\"CARGA\",2,100),(\"CARGA\",3,100)]"
   ]
  },
  {
   "cell_type": "code",
   "execution_count": 3,
   "id": "ec167e54",
   "metadata": {},
   "outputs": [
    {
     "name": "stdout",
     "output_type": "stream",
     "text": [
      "\n",
      "2.680000000000745\n",
      "2.680000000000117\n",
      "244.94897448232618\n"
     ]
    }
   ],
   "source": [
    "#Sem bolha - n=1:\n",
    "#Monta Rigidez Global\n",
    "n = 1\n",
    "Malha3D.Gerar_Viga_Flexao3D_Corrigido(arquivo,L=1,h=0.1,t=0.1,nx=10*n,ny=n,nz=n,show_gui=False)\n",
    "nn, XYZ, ne, IJ, MAT, na, AP, nc, P = Malha3D.Processar_malha3D(arquivo,Materiais,apoios,cargas)\n",
    "\n",
    "K_b = H3D.RigidezGlobal(nn,ne,MAT,XYZ,IJ,bolha=False)\n",
    "#Monta Força Global\n",
    "F_b = H3D.ForcapGlobal(nn,XYZ,IJ,nc,P)\n",
    "#Aplica as CChs homogêneas\n",
    "K_mod,F_mod = H3D.AplicaCCH(nn,na,AP,K_b,F_b)\n",
    "\n",
    "#Calcula o Deslocamento\n",
    "U = np.linalg.solve(K_mod,F_mod)\n",
    "uy = U[1::3]\n",
    "uz = U[2::3]\n",
    "print(max(uy))\n",
    "print(max(uz))\n",
    "\n",
    "#Calcula a Tensão ao longo dos elementos\n",
    "Sigma = H3D.CalculaTensaoMalha(nn,ne,MAT,XYZ,IJ,U,bolha=False)\n",
    "\n",
    "# #Calcula Von Mises\n",
    "TVM = H3D.TensaoVonMises3D(ne,Sigma)\n",
    "print(max(TVM))"
   ]
  },
  {
   "cell_type": "code",
   "execution_count": 4,
   "id": "700e7b1e",
   "metadata": {},
   "outputs": [],
   "source": [
    "Malha3D.Exporta_para_Gmsh(arquivo,IJ, XYZ, U,TVM)\n",
    "Malha3D.AbreVisualizacaoGmsh(arquivo)"
   ]
  },
  {
   "cell_type": "code",
   "execution_count": null,
   "id": "dfaae2cc",
   "metadata": {},
   "outputs": [
    {
     "name": "stdout",
     "output_type": "stream",
     "text": [
      "\n",
      "3.810232973510081\n",
      "3.810232973503682\n",
      "7446.127843209993\n"
     ]
    }
   ],
   "source": [
    "#Sem bolha - n=3:\n",
    "#Monta Rigidez Global\n",
    "n = 3\n",
    "Malha3D.Gerar_Viga_Flexao3D_Corrigido(arquivo,L=1,h=0.1,t=0.1,nx=10*n,ny=n,nz=n,show_gui=False)\n",
    "nn, XYZ, ne, IJ, MAT, na, AP, nc, P = Malha3D.Processar_malha3D(arquivo,Materiais,apoios,cargas)\n",
    "\n",
    "K_b = H3D.RigidezGlobal(nn,ne,MAT,XYZ,IJ,bolha=False)\n",
    "#Monta Força Global\n",
    "F_b = H3D.ForcapGlobal(nn,XYZ,IJ,nc,P)\n",
    "#Aplica as CChs homogêneas\n",
    "K_mod,F_mod = H3D.AplicaCCH(nn,na,AP,K_b,F_b)\n",
    "\n",
    "#Calcula o Deslocamento\n",
    "U = np.linalg.solve(K_mod,F_mod)\n",
    "uy = U[1::3]\n",
    "uz = U[2::3]\n",
    "print(max(uy))\n",
    "print(max(uz))\n",
    "\n",
    "#Calcula a Tensão ao longo dos elementos\n",
    "Sigma = H3D.CalculaTensaoMalha(nn,ne,MAT,XYZ,IJ,U,bolha=False)\n",
    "\n",
    "# #Calcula Von Mises\n",
    "TVM = H3D.TensaoVonMises3D(ne,Sigma)\n",
    "print(max(TVM))\n",
    "\n"
   ]
  },
  {
   "cell_type": "code",
   "execution_count": null,
   "id": "2882c490",
   "metadata": {},
   "outputs": [],
   "source": [
    "Malha3D.Exporta_para_Gmsh(arquivo,IJ, XYZ, U,TVM)\n",
    "Malha3D.AbreVisualizacaoGmsh(arquivo)"
   ]
  },
  {
   "cell_type": "code",
   "execution_count": null,
   "id": "91eb06b1",
   "metadata": {},
   "outputs": [
    {
     "name": "stdout",
     "output_type": "stream",
     "text": [
      "\n",
      "3.9444131105397506\n",
      "3.9444131105273597\n",
      "9337.470433217652\n"
     ]
    }
   ],
   "source": [
    "#Sem bolha - n=5:\n",
    "#Monta Rigidez Global\n",
    "n = 5\n",
    "Malha3D.Gerar_Viga_Flexao3D_Corrigido(arquivo,L=1,h=0.1,t=0.1,nx=10*n,ny=n,nz=n,show_gui=False)\n",
    "nn, XYZ, ne, IJ, MAT, na, AP, nc, P = Malha3D.Processar_malha3D(arquivo,Materiais,apoios,cargas)\n",
    "\n",
    "K_b = H3D.RigidezGlobal(nn,ne,MAT,XYZ,IJ,bolha=False)\n",
    "#Monta Força Global\n",
    "F_b = H3D.ForcapGlobal(nn,XYZ,IJ,nc,P)\n",
    "#Aplica as CChs homogêneas\n",
    "K_mod,F_mod = H3D.AplicaCCH(nn,na,AP,K_b,F_b)\n",
    "\n",
    "#Calcula o Deslocamento\n",
    "U = np.linalg.solve(K_mod,F_mod)\n",
    "uy = U[1::3]\n",
    "uz = U[2::3]\n",
    "print(max(uy))\n",
    "print(max(uz))\n",
    "\n",
    "#Calcula a Tensão ao longo dos elementos\n",
    "Sigma = H3D.CalculaTensaoMalha(nn,ne,MAT,XYZ,IJ,U,bolha=False)\n",
    "\n",
    "# #Calcula Von Mises\n",
    "TVM = H3D.TensaoVonMises3D(ne,Sigma)\n",
    "print(max(TVM))\n"
   ]
  },
  {
   "cell_type": "code",
   "execution_count": null,
   "id": "d55cf518",
   "metadata": {},
   "outputs": [],
   "source": [
    "Malha3D.Exporta_para_Gmsh(arquivo,IJ, XYZ, U,TVM)\n",
    "Malha3D.AbreVisualizacaoGmsh(arquivo)"
   ]
  },
  {
   "cell_type": "code",
   "execution_count": 12,
   "id": "0664240f",
   "metadata": {},
   "outputs": [
    {
     "name": "stdout",
     "output_type": "stream",
     "text": [
      "\n",
      "3.9831171052027976\n",
      "3.9831171052317527\n",
      "10163.510452799232\n"
     ]
    }
   ],
   "source": [
    "#Sem bolha - n=7:\n",
    "#Monta Rigidez Global\n",
    "n = 7\n",
    "Malha3D.Gerar_Viga_Flexao3D_Corrigido(arquivo,L=1,h=0.1,t=0.1,nx=10*n,ny=n,nz=n,show_gui=False)\n",
    "nn, XYZ, ne, IJ, MAT, na, AP, nc, P = Malha3D.Processar_malha3D(arquivo,Materiais,apoios,cargas)\n",
    "\n",
    "K_b = H3D.RigidezGlobal(nn,ne,MAT,XYZ,IJ,bolha=False)\n",
    "#Monta Força Global\n",
    "F_b = H3D.ForcapGlobal(nn,XYZ,IJ,nc,P)\n",
    "#Aplica as CChs homogêneas\n",
    "K_mod,F_mod = H3D.AplicaCCH(nn,na,AP,K_b,F_b)\n",
    "\n",
    "#Calcula o Deslocamento\n",
    "U = np.linalg.solve(K_mod,F_mod)\n",
    "uy = U[1::3]\n",
    "uz = U[2::3]\n",
    "print(max(uy))\n",
    "print(max(uz))\n",
    "\n",
    "#Calcula a Tensão ao longo dos elementos\n",
    "Sigma = H3D.CalculaTensaoMalha(nn,ne,MAT,XYZ,IJ,U,bolha=False)\n",
    "\n",
    "# #Calcula Von Mises\n",
    "TVM = H3D.TensaoVonMises3D(ne,Sigma)\n",
    "print(max(TVM))\n",
    "\n"
   ]
  },
  {
   "cell_type": "code",
   "execution_count": 13,
   "id": "b3253a47",
   "metadata": {},
   "outputs": [],
   "source": [
    "Malha3D.Exporta_para_Gmsh(arquivo,IJ, XYZ, U,TVM,None,None,P)\n",
    "Malha3D.AbreVisualizacaoGmsh(arquivo)"
   ]
  },
  {
   "cell_type": "code",
   "execution_count": null,
   "id": "15a39ca4",
   "metadata": {},
   "outputs": [
    {
     "name": "stdout",
     "output_type": "stream",
     "text": [
      "\n",
      "3.9992818102818624\n",
      "3.9992818103529197\n",
      "10627.935880547293\n"
     ]
    }
   ],
   "source": [
    "# #Sem bolha - n=9:\n",
    "# #Monta Rigidez Global\n",
    "# n = 9\n",
    "# Malha3D.Gerar_Viga_Flexao3D_Corrigido(arquivo,L=1,h=0.1,t=0.1,nx=10*n,ny=n,nz=n,show_gui=False)\n",
    "# nn, XYZ, ne, IJ, MAT, na, AP, nc, P = Malha3D.Processar_malha3D(arquivo,Materiais,apoios,cargas)\n",
    "\n",
    "# K_b = H3D.RigidezGlobal(nn,ne,MAT,XYZ,IJ,bolha=False)\n",
    "# #Monta Força Global\n",
    "# F_b = H3D.ForcapGlobal(nn,XYZ,IJ,nc,P)\n",
    "# #Aplica as CChs homogêneas\n",
    "# K_mod,F_mod = H3D.AplicaCCH(nn,na,AP,K_b,F_b)\n",
    "\n",
    "# #Calcula o Deslocamento\n",
    "# U = np.linalg.solve(K_mod,F_mod)\n",
    "# uy = U[1::3]\n",
    "# uz = U[2::3]\n",
    "# print(max(uy))\n",
    "# print(max(uz))\n",
    "\n",
    "# #Calcula a Tensão ao longo dos elementos\n",
    "# Sigma = H3D.CalculaTensaoMalha(nn,ne,MAT,XYZ,IJ,U,bolha=False)\n",
    "\n",
    "# # #Calcula Von Mises\n",
    "# TVM = H3D.TensaoVonMises3D(ne,Sigma)\n",
    "# print(max(TVM))\n",
    "\n"
   ]
  },
  {
   "cell_type": "code",
   "execution_count": null,
   "id": "43c59776",
   "metadata": {},
   "outputs": [],
   "source": [
    "# Malha3D.Exporta_para_Gmsh(arquivo,IJ, XYZ, U,TVM,None,None,P)\n",
    "# Malha3D.AbreVisualizacaoGmsh(arquivo)"
   ]
  },
  {
   "cell_type": "code",
   "execution_count": 8,
   "id": "cc8262ae",
   "metadata": {},
   "outputs": [
    {
     "name": "stdout",
     "output_type": "stream",
     "text": [
      "\n",
      "4.01000000000326\n",
      "4.009999999999589\n",
      "6586.349520031886\n"
     ]
    }
   ],
   "source": [
    "#Com bolha - n=1:\n",
    "n=1\n",
    "Malha3D.Gerar_Viga_Flexao3D_Corrigido(arquivo,L=1,h=0.1,t=0.1,nx=10*n,ny=n,nz=n,show_gui=False)\n",
    "nn, XYZ, ne, IJ, MAT, na, AP, nc, P = Malha3D.Processar_malha3D(arquivo,Materiais,apoios,cargas)\n",
    "#Monta Rigidez Global\n",
    "K_b = H3D.RigidezGlobal(nn,ne,MAT,XYZ,IJ,bolha=True)\n",
    "#Monta Força Global\n",
    "F_b = H3D.ForcapGlobal(nn,XYZ,IJ,nc,P)\n",
    "#Aplica as CChs homogêneas\n",
    "K_mod,F_mod = H3D.AplicaCCH(nn,na,AP,K_b,F_b)\n",
    "\n",
    "#Calcula o Deslocamento\n",
    "U = np.linalg.solve(K_mod,F_mod)\n",
    "uy = U[1::3]\n",
    "uz = U[2::3]\n",
    "print(max(uy))\n",
    "print(max(uz))\n",
    "\n",
    "#Calcula a Tensão ao longo dos elementos\n",
    "Sigma = H3D.CalculaTensaoMalha(nn,ne,MAT,XYZ,IJ,U,bolha=True)\n",
    "\n",
    "# #Calcula Von Mises\n",
    "TVM = H3D.TensaoVonMises3D(ne,Sigma)\n",
    "print(max(TVM))\n"
   ]
  },
  {
   "cell_type": "code",
   "execution_count": null,
   "id": "3621896f",
   "metadata": {},
   "outputs": [],
   "source": [
    "Malha3D.Exporta_para_Gmsh(arquivo,IJ, XYZ, U,TVM)\n",
    "Malha3D.AbreVisualizacaoGmsh(arquivo)"
   ]
  },
  {
   "cell_type": "code",
   "execution_count": 7,
   "id": "b6b38797",
   "metadata": {},
   "outputs": [
    {
     "name": "stdout",
     "output_type": "stream",
     "text": [
      "\n",
      "4.017500000008017\n",
      "4.017499999991137\n",
      "9230.749653993797\n"
     ]
    }
   ],
   "source": [
    "#Com bolha - n=2:\n",
    "n=2\n",
    "Malha3D.Gerar_Viga_Flexao3D_Corrigido(arquivo,L=1,h=0.1,t=0.1,nx=10*n,ny=n,nz=n,show_gui=False)\n",
    "nn, XYZ, ne, IJ, MAT, na, AP, nc, P = Malha3D.Processar_malha3D(arquivo,Materiais,apoios,cargas)\n",
    "#Monta Rigidez Global\n",
    "K_b = H3D.RigidezGlobal(nn,ne,MAT,XYZ,IJ,bolha=True)\n",
    "#Monta Força Global\n",
    "F_b = H3D.ForcapGlobal(nn,XYZ,IJ,nc,P)\n",
    "#Aplica as CChs homogêneas\n",
    "K_mod,F_mod = H3D.AplicaCCH(nn,na,AP,K_b,F_b)\n",
    "\n",
    "#Calcula o Deslocamento\n",
    "U = np.linalg.solve(K_mod,F_mod)\n",
    "uy = U[1::3]\n",
    "uz = U[2::3]\n",
    "print(max(uy))\n",
    "print(max(uz))\n",
    "\n",
    "#Calcula a Tensão ao longo dos elementos\n",
    "Sigma = H3D.CalculaTensaoMalha(nn,ne,MAT,XYZ,IJ,U,bolha=True)\n",
    "\n",
    "# #Calcula Von Mises\n",
    "TVM = H3D.TensaoVonMises3D(ne,Sigma)\n",
    "print(max(TVM))\n"
   ]
  },
  {
   "cell_type": "code",
   "execution_count": null,
   "id": "097076b7",
   "metadata": {},
   "outputs": [],
   "source": [
    "Malha3D.Exporta_para_Gmsh(arquivo,IJ, XYZ, U,TVM)\n",
    "Malha3D.AbreVisualizacaoGmsh(arquivo)"
   ]
  },
  {
   "cell_type": "code",
   "execution_count": 9,
   "id": "65ffb2f7",
   "metadata": {},
   "outputs": [
    {
     "name": "stdout",
     "output_type": "stream",
     "text": [
      "\n",
      "4.020925017625008\n",
      "4.020925017635391\n",
      "10172.777152495406\n"
     ]
    }
   ],
   "source": [
    "#Com bolha - n=3:\n",
    "n=3\n",
    "Malha3D.Gerar_Viga_Flexao3D_Corrigido(arquivo,L=1,h=0.1,t=0.1,nx=10*n,ny=n,nz=n,show_gui=False)\n",
    "nn, XYZ, ne, IJ, MAT, na, AP, nc, P = Malha3D.Processar_malha3D(arquivo,Materiais,apoios,cargas)\n",
    "#Monta Rigidez Global\n",
    "K_b = H3D.RigidezGlobal(nn,ne,MAT,XYZ,IJ,bolha=True)\n",
    "#Monta Força Global\n",
    "F_b = H3D.ForcapGlobal(nn,XYZ,IJ,nc,P)\n",
    "#Aplica as CChs homogêneas\n",
    "K_mod,F_mod = H3D.AplicaCCH(nn,na,AP,K_b,F_b)\n",
    "\n",
    "#Calcula o Deslocamento\n",
    "U = np.linalg.solve(K_mod,F_mod)\n",
    "uy = U[1::3]\n",
    "uz = U[2::3]\n",
    "print(max(uy))\n",
    "print(max(uz))\n",
    "\n",
    "#Calcula a Tensão ao longo dos elementos\n",
    "Sigma = H3D.CalculaTensaoMalha(nn,ne,MAT,XYZ,IJ,U,bolha=True)\n",
    "\n",
    "# #Calcula Von Mises\n",
    "TVM = H3D.TensaoVonMises3D(ne,Sigma)\n",
    "print(max(TVM))\n"
   ]
  },
  {
   "cell_type": "code",
   "execution_count": null,
   "id": "5d979778",
   "metadata": {},
   "outputs": [],
   "source": [
    "Malha3D.Exporta_para_Gmsh(arquivo,IJ, XYZ, U,TVM)\n",
    "Malha3D.AbreVisualizacaoGmsh(arquivo)"
   ]
  },
  {
   "cell_type": "code",
   "execution_count": 10,
   "id": "0601a6cd",
   "metadata": {},
   "outputs": [
    {
     "name": "stdout",
     "output_type": "stream",
     "text": [
      "\n",
      "4.022992231541413\n",
      "4.022992231541785\n",
      "10968.559197287366\n"
     ]
    }
   ],
   "source": [
    "#Com bolha - n=5:\n",
    "n=5\n",
    "Malha3D.Gerar_Viga_Flexao3D_Corrigido(arquivo,L=1,h=0.1,t=0.1,nx=10*n,ny=n,nz=n,show_gui=False)\n",
    "nn, XYZ, ne, IJ, MAT, na, AP, nc, P = Malha3D.Processar_malha3D(arquivo,Materiais,apoios,cargas)\n",
    "#Monta Rigidez Global\n",
    "K_b = H3D.RigidezGlobal(nn,ne,MAT,XYZ,IJ,bolha=True)\n",
    "#Monta Força Global\n",
    "F_b = H3D.ForcapGlobal(nn,XYZ,IJ,nc,P)\n",
    "#Aplica as CChs homogêneas\n",
    "K_mod,F_mod = H3D.AplicaCCH(nn,na,AP,K_b,F_b)\n",
    "\n",
    "#Calcula o Deslocamento\n",
    "U = np.linalg.solve(K_mod,F_mod)\n",
    "uy = U[1::3]\n",
    "uz = U[2::3]\n",
    "print(max(uy))\n",
    "print(max(uz))\n",
    "\n",
    "#Calcula a Tensão ao longo dos elementos\n",
    "Sigma = H3D.CalculaTensaoMalha(nn,ne,MAT,XYZ,IJ,U,bolha=True)\n",
    "\n",
    "# #Calcula Von Mises\n",
    "TVM = H3D.TensaoVonMises3D(ne,Sigma)\n",
    "print(max(TVM))\n"
   ]
  },
  {
   "cell_type": "code",
   "execution_count": 11,
   "id": "307214a8",
   "metadata": {},
   "outputs": [],
   "source": [
    "Malha3D.Exporta_para_Gmsh(arquivo,IJ, XYZ, U,TVM,None,None,P)\n",
    "Malha3D.AbreVisualizacaoGmsh(arquivo)"
   ]
  }
 ],
 "metadata": {
  "kernelspec": {
   "display_name": "Python 3",
   "language": "python",
   "name": "python3"
  },
  "language_info": {
   "codemirror_mode": {
    "name": "ipython",
    "version": 3
   },
   "file_extension": ".py",
   "mimetype": "text/x-python",
   "name": "python",
   "nbconvert_exporter": "python",
   "pygments_lexer": "ipython3",
   "version": "3.13.1"
  }
 },
 "nbformat": 4,
 "nbformat_minor": 5
}
