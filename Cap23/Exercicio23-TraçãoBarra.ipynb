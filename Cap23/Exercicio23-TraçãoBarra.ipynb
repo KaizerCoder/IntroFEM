{
 "cells": [
  {
   "cell_type": "code",
   "execution_count": 9,
   "id": "424c6eca",
   "metadata": {},
   "outputs": [],
   "source": [
    "import numpy as np\n",
    "import Elementos3D as H3D\n",
    "import sympy as sp\n",
    "import meshio\n",
    "import Malha3D"
   ]
  },
  {
   "cell_type": "code",
   "execution_count": null,
   "id": "a87d102b",
   "metadata": {},
   "outputs": [
    {
     "name": "stdout",
     "output_type": "stream",
     "text": [
      "\n"
     ]
    }
   ],
   "source": [
    "#Entrada de Dados \n",
    "\n",
    "# #Gera Malha(básica)\n",
    "arquivo = 'Barra3D.msh'\n",
    "\n",
    "Materiais = {\"MAT1\":[1e9,0.3]}\n",
    "apoios = {'ENGASTE':'xyz','ENGASTE2':\"y\"}\n",
    "cargas = [(\"CARGA\",1,1000)]\n",
    "\n",
    "\n",
    "Malha3D.Gerar_barra_tracao3D(arquivo,L=1,h=0.1,t=0.1,nx=20,ny=5,nz=5,show_gui=False)\n",
    "nn, XYZ, ne, IJ, MAT, na, AP, nc, P = Malha3D.Processar_malha3D(arquivo,Materiais,apoios,cargas)"
   ]
  },
  {
   "cell_type": "code",
   "execution_count": 11,
   "id": "cc8262ae",
   "metadata": {},
   "outputs": [],
   "source": [
    "#Monta Rigidez Global\n",
    "K_b = H3D.RigidezGlobal(nn,ne,MAT,XYZ,IJ)\n",
    "#Monta Força Global\n",
    "F_b = H3D.ForcapGlobal(nn,XYZ,IJ,nc,P)\n",
    "#Aplica as CChs homogêneas\n",
    "K_mod,F_mod = H3D.AplicaCCH(nn,na,AP,K_b,F_b)\n",
    "\n",
    "#Calcula o Deslocamento\n",
    "U = np.linalg.solve(K_mod,F_mod)\n",
    "\n",
    "#Calcula a Tensão ao longo dos elementos\n",
    "Sigma = H3D.CalculaTensaoMalha(nn,ne,MAT,XYZ,IJ,U)\n",
    "\n",
    "# #Calcula Von Mises\n",
    "TVM = H3D.TensaoVonMises3D(ne,Sigma)"
   ]
  },
  {
   "cell_type": "code",
   "execution_count": 12,
   "id": "3621896f",
   "metadata": {},
   "outputs": [],
   "source": [
    "#Gera Malha com resultados\n",
    "Malha3D.Exporta_para_Gmsh(arquivo,IJ, XYZ, U,TVM)\n",
    "Malha3D.AbreVisualizacaoGmsh(arquivo)"
   ]
  }
 ],
 "metadata": {
  "kernelspec": {
   "display_name": "Python 3",
   "language": "python",
   "name": "python3"
  },
  "language_info": {
   "codemirror_mode": {
    "name": "ipython",
    "version": 3
   },
   "file_extension": ".py",
   "mimetype": "text/x-python",
   "name": "python",
   "nbconvert_exporter": "python",
   "pygments_lexer": "ipython3",
   "version": "3.13.1"
  }
 },
 "nbformat": 4,
 "nbformat_minor": 5
}
