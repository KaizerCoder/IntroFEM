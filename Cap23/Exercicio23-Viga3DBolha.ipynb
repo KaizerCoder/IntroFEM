{
 "cells": [
  {
   "cell_type": "code",
   "execution_count": 62,
   "id": "424c6eca",
   "metadata": {},
   "outputs": [],
   "source": [
    "import numpy as np\n",
    "import Elementos3D as H3D\n",
    "import sympy as sp\n",
    "import meshio\n",
    "import Malha3D"
   ]
  },
  {
   "cell_type": "code",
   "execution_count": 63,
   "id": "a87d102b",
   "metadata": {},
   "outputs": [],
   "source": [
    "#Entrada de Dados \n",
    "\n",
    "# #Gera Malha(básica)\n",
    "arquivo = 'Viga3D.msh'\n",
    "\n",
    "Materiais = {\"MAT1\":[10e3,0]}\n",
    "apoios = {'ENGASTE':'xyz'}\n",
    "cargas = [(\"CARGA\",2,100),(\"CARGA\",3,100)]"
   ]
  },
  {
   "cell_type": "code",
   "execution_count": 64,
   "id": "ec167e54",
   "metadata": {},
   "outputs": [
    {
     "name": "stdout",
     "output_type": "stream",
     "text": [
      "\n"
     ]
    }
   ],
   "source": [
    "#Sem bolha - n=1:\n",
    "#Monta Rigidez Global\n",
    "n = 1\n",
    "Malha3D.Gerar_Viga_Flexao3D_Corrigido(arquivo,L=1,h=0.1,t=0.1,nx=10*n,ny=n,nz=n,show_gui=False)\n",
    "nn, XYZ, ne, IJ, MAT, na, AP, nc, P = Malha3D.Processar_malha3D(arquivo,Materiais,apoios,cargas)\n",
    "\n",
    "K_b = H3D.RigidezGlobal(nn,ne,MAT,XYZ,IJ,bolha=False)\n",
    "#Monta Força Global\n",
    "F_b = H3D.ForcapGlobal(nn,XYZ,IJ,nc,P)\n",
    "#Aplica as CChs homogêneas\n",
    "K_mod,F_mod = H3D.AplicaCCH(nn,na,AP,K_b,F_b)\n",
    "\n",
    "#Calcula o Deslocamento\n",
    "U = np.linalg.solve(K_mod,F_mod)\n",
    "\n",
    "#Calcula a Tensão ao longo dos elementos\n",
    "Sigma = H3D.CalculaTensaoMalha(nn,ne,MAT,XYZ,IJ,U,bolha=False)\n",
    "\n",
    "# #Calcula Von Mises\n",
    "TVM = H3D.TensaoVonMises3D(ne,Sigma)"
   ]
  },
  {
   "cell_type": "code",
   "execution_count": 65,
   "id": "700e7b1e",
   "metadata": {},
   "outputs": [],
   "source": [
    "Malha3D.Exporta_para_Gmsh(arquivo,IJ, XYZ, U,TVM)\n",
    "Malha3D.AbreVisualizacaoGmsh(arquivo)"
   ]
  },
  {
   "cell_type": "code",
   "execution_count": 66,
   "id": "dfaae2cc",
   "metadata": {},
   "outputs": [
    {
     "name": "stdout",
     "output_type": "stream",
     "text": [
      "\n"
     ]
    }
   ],
   "source": [
    "#Sem bolha - n=3:\n",
    "#Monta Rigidez Global\n",
    "n = 3\n",
    "Malha3D.Gerar_Viga_Flexao3D_Corrigido(arquivo,L=1,h=0.1,t=0.1,nx=10*n,ny=n,nz=n,show_gui=False)\n",
    "nn, XYZ, ne, IJ, MAT, na, AP, nc, P = Malha3D.Processar_malha3D(arquivo,Materiais,apoios,cargas)\n",
    "\n",
    "K_b = H3D.RigidezGlobal(nn,ne,MAT,XYZ,IJ,bolha=False)\n",
    "#Monta Força Global\n",
    "F_b = H3D.ForcapGlobal(nn,XYZ,IJ,nc,P)\n",
    "#Aplica as CChs homogêneas\n",
    "K_mod,F_mod = H3D.AplicaCCH(nn,na,AP,K_b,F_b)\n",
    "\n",
    "#Calcula o Deslocamento\n",
    "U = np.linalg.solve(K_mod,F_mod)\n",
    "\n",
    "#Calcula a Tensão ao longo dos elementos\n",
    "Sigma = H3D.CalculaTensaoMalha(nn,ne,MAT,XYZ,IJ,U,bolha=False)\n",
    "\n",
    "# #Calcula Von Mises\n",
    "TVM = H3D.TensaoVonMises3D(ne,Sigma)\n"
   ]
  },
  {
   "cell_type": "code",
   "execution_count": 67,
   "id": "2882c490",
   "metadata": {},
   "outputs": [],
   "source": [
    "Malha3D.Exporta_para_Gmsh(arquivo,IJ, XYZ, U,TVM)\n",
    "Malha3D.AbreVisualizacaoGmsh(arquivo)"
   ]
  },
  {
   "cell_type": "code",
   "execution_count": 68,
   "id": "91eb06b1",
   "metadata": {},
   "outputs": [
    {
     "name": "stdout",
     "output_type": "stream",
     "text": [
      "\n"
     ]
    }
   ],
   "source": [
    "#Sem bolha - n=5:\n",
    "#Monta Rigidez Global\n",
    "n = 5\n",
    "Malha3D.Gerar_Viga_Flexao3D_Corrigido(arquivo,L=1,h=0.1,t=0.1,nx=10*n,ny=n,nz=n,show_gui=False)\n",
    "nn, XYZ, ne, IJ, MAT, na, AP, nc, P = Malha3D.Processar_malha3D(arquivo,Materiais,apoios,cargas)\n",
    "\n",
    "K_b = H3D.RigidezGlobal(nn,ne,MAT,XYZ,IJ,bolha=False)\n",
    "#Monta Força Global\n",
    "F_b = H3D.ForcapGlobal(nn,XYZ,IJ,nc,P)\n",
    "#Aplica as CChs homogêneas\n",
    "K_mod,F_mod = H3D.AplicaCCH(nn,na,AP,K_b,F_b)\n",
    "\n",
    "#Calcula o Deslocamento\n",
    "U = np.linalg.solve(K_mod,F_mod)\n",
    "\n",
    "#Calcula a Tensão ao longo dos elementos\n",
    "Sigma = H3D.CalculaTensaoMalha(nn,ne,MAT,XYZ,IJ,U,bolha=False)\n",
    "\n",
    "# #Calcula Von Mises\n",
    "TVM = H3D.TensaoVonMises3D(ne,Sigma)\n"
   ]
  },
  {
   "cell_type": "code",
   "execution_count": 69,
   "id": "d55cf518",
   "metadata": {},
   "outputs": [],
   "source": [
    "Malha3D.Exporta_para_Gmsh(arquivo,IJ, XYZ, U,TVM)\n",
    "Malha3D.AbreVisualizacaoGmsh(arquivo)"
   ]
  },
  {
   "cell_type": "code",
   "execution_count": null,
   "id": "0664240f",
   "metadata": {},
   "outputs": [
    {
     "name": "stdout",
     "output_type": "stream",
     "text": [
      "\n"
     ]
    }
   ],
   "source": [
    "#Sem bolha - n=7:\n",
    "#Monta Rigidez Global\n",
    "n = 7\n",
    "Malha3D.Gerar_Viga_Flexao3D_Corrigido(arquivo,L=1,h=0.1,t=0.1,nx=10*n,ny=n,nz=n,show_gui=False)\n",
    "nn, XYZ, ne, IJ, MAT, na, AP, nc, P = Malha3D.Processar_malha3D(arquivo,Materiais,apoios,cargas)\n",
    "\n",
    "K_b = H3D.RigidezGlobal(nn,ne,MAT,XYZ,IJ,bolha=False)\n",
    "#Monta Força Global\n",
    "F_b = H3D.ForcapGlobal(nn,XYZ,IJ,nc,P)\n",
    "#Aplica as CChs homogêneas\n",
    "K_mod,F_mod = H3D.AplicaCCH(nn,na,AP,K_b,F_b)\n",
    "\n",
    "#Calcula o Deslocamento\n",
    "U = np.linalg.solve(K_mod,F_mod)\n",
    "\n",
    "#Calcula a Tensão ao longo dos elementos\n",
    "Sigma = H3D.CalculaTensaoMalha(nn,ne,MAT,XYZ,IJ,U,bolha=False)\n",
    "\n",
    "# #Calcula Von Mises\n",
    "TVM = H3D.TensaoVonMises3D(ne,Sigma)\n"
   ]
  },
  {
   "cell_type": "code",
   "execution_count": 71,
   "id": "b3253a47",
   "metadata": {},
   "outputs": [],
   "source": [
    "Malha3D.Exporta_para_Gmsh(arquivo,IJ, XYZ, U,TVM)\n",
    "Malha3D.AbreVisualizacaoGmsh(arquivo)"
   ]
  },
  {
   "cell_type": "code",
   "execution_count": 72,
   "id": "cc8262ae",
   "metadata": {},
   "outputs": [
    {
     "name": "stdout",
     "output_type": "stream",
     "text": [
      "\n"
     ]
    }
   ],
   "source": [
    "#Com bolha - n=1:\n",
    "n=1\n",
    "Malha3D.Gerar_Viga_Flexao3D_Corrigido(arquivo,L=1,h=0.1,t=0.1,nx=10*n,ny=n,nz=n,show_gui=False)\n",
    "nn, XYZ, ne, IJ, MAT, na, AP, nc, P = Malha3D.Processar_malha3D(arquivo,Materiais,apoios,cargas)\n",
    "#Monta Rigidez Global\n",
    "K_b = H3D.RigidezGlobal(nn,ne,MAT,XYZ,IJ,bolha=True)\n",
    "#Monta Força Global\n",
    "F_b = H3D.ForcapGlobal(nn,XYZ,IJ,nc,P)\n",
    "#Aplica as CChs homogêneas\n",
    "K_mod,F_mod = H3D.AplicaCCH(nn,na,AP,K_b,F_b)\n",
    "\n",
    "#Calcula o Deslocamento\n",
    "U = np.linalg.solve(K_mod,F_mod)\n",
    "\n",
    "#Calcula a Tensão ao longo dos elementos\n",
    "Sigma = H3D.CalculaTensaoMalha(nn,ne,MAT,XYZ,IJ,U,bolha=True)\n",
    "\n",
    "# #Calcula Von Mises\n",
    "TVM = H3D.TensaoVonMises3D(ne,Sigma)"
   ]
  },
  {
   "cell_type": "code",
   "execution_count": 73,
   "id": "3621896f",
   "metadata": {},
   "outputs": [],
   "source": [
    "Malha3D.Exporta_para_Gmsh(arquivo,IJ, XYZ, U,TVM)\n",
    "Malha3D.AbreVisualizacaoGmsh(arquivo)"
   ]
  },
  {
   "cell_type": "code",
   "execution_count": 74,
   "id": "b6b38797",
   "metadata": {},
   "outputs": [
    {
     "name": "stdout",
     "output_type": "stream",
     "text": [
      "\n"
     ]
    }
   ],
   "source": [
    "#Com bolha - n=2:\n",
    "n=2\n",
    "Malha3D.Gerar_Viga_Flexao3D_Corrigido(arquivo,L=1,h=0.1,t=0.1,nx=10*n,ny=n,nz=n,show_gui=False)\n",
    "nn, XYZ, ne, IJ, MAT, na, AP, nc, P = Malha3D.Processar_malha3D(arquivo,Materiais,apoios,cargas)\n",
    "#Monta Rigidez Global\n",
    "K_b = H3D.RigidezGlobal(nn,ne,MAT,XYZ,IJ,bolha=True)\n",
    "#Monta Força Global\n",
    "F_b = H3D.ForcapGlobal(nn,XYZ,IJ,nc,P)\n",
    "#Aplica as CChs homogêneas\n",
    "K_mod,F_mod = H3D.AplicaCCH(nn,na,AP,K_b,F_b)\n",
    "\n",
    "#Calcula o Deslocamento\n",
    "U = np.linalg.solve(K_mod,F_mod)\n",
    "\n",
    "#Calcula a Tensão ao longo dos elementos\n",
    "Sigma = H3D.CalculaTensaoMalha(nn,ne,MAT,XYZ,IJ,U,bolha=True)\n",
    "\n",
    "# #Calcula Von Mises\n",
    "TVM = H3D.TensaoVonMises3D(ne,Sigma)"
   ]
  },
  {
   "cell_type": "code",
   "execution_count": 75,
   "id": "097076b7",
   "metadata": {},
   "outputs": [],
   "source": [
    "Malha3D.Exporta_para_Gmsh(arquivo,IJ, XYZ, U,TVM)\n",
    "Malha3D.AbreVisualizacaoGmsh(arquivo)"
   ]
  },
  {
   "cell_type": "code",
   "execution_count": 76,
   "id": "65ffb2f7",
   "metadata": {},
   "outputs": [
    {
     "name": "stdout",
     "output_type": "stream",
     "text": [
      "\n"
     ]
    }
   ],
   "source": [
    "#Com bolha - n=3:\n",
    "n=3\n",
    "Malha3D.Gerar_Viga_Flexao3D_Corrigido(arquivo,L=1,h=0.1,t=0.1,nx=10*n,ny=n,nz=n,show_gui=False)\n",
    "nn, XYZ, ne, IJ, MAT, na, AP, nc, P = Malha3D.Processar_malha3D(arquivo,Materiais,apoios,cargas)\n",
    "#Monta Rigidez Global\n",
    "K_b = H3D.RigidezGlobal(nn,ne,MAT,XYZ,IJ,bolha=True)\n",
    "#Monta Força Global\n",
    "F_b = H3D.ForcapGlobal(nn,XYZ,IJ,nc,P)\n",
    "#Aplica as CChs homogêneas\n",
    "K_mod,F_mod = H3D.AplicaCCH(nn,na,AP,K_b,F_b)\n",
    "\n",
    "#Calcula o Deslocamento\n",
    "U = np.linalg.solve(K_mod,F_mod)\n",
    "\n",
    "#Calcula a Tensão ao longo dos elementos\n",
    "Sigma = H3D.CalculaTensaoMalha(nn,ne,MAT,XYZ,IJ,U,bolha=True)\n",
    "\n",
    "# #Calcula Von Mises\n",
    "TVM = H3D.TensaoVonMises3D(ne,Sigma)"
   ]
  },
  {
   "cell_type": "code",
   "execution_count": 77,
   "id": "5d979778",
   "metadata": {},
   "outputs": [],
   "source": [
    "Malha3D.Exporta_para_Gmsh(arquivo,IJ, XYZ, U,TVM)\n",
    "Malha3D.AbreVisualizacaoGmsh(arquivo)"
   ]
  },
  {
   "cell_type": "code",
   "execution_count": 78,
   "id": "0601a6cd",
   "metadata": {},
   "outputs": [
    {
     "name": "stdout",
     "output_type": "stream",
     "text": [
      "\n"
     ]
    }
   ],
   "source": [
    "#Com bolha - n=5:\n",
    "n=5\n",
    "Malha3D.Gerar_Viga_Flexao3D_Corrigido(arquivo,L=1,h=0.1,t=0.1,nx=10*n,ny=n,nz=n,show_gui=False)\n",
    "nn, XYZ, ne, IJ, MAT, na, AP, nc, P = Malha3D.Processar_malha3D(arquivo,Materiais,apoios,cargas)\n",
    "#Monta Rigidez Global\n",
    "K_b = H3D.RigidezGlobal(nn,ne,MAT,XYZ,IJ,bolha=True)\n",
    "#Monta Força Global\n",
    "F_b = H3D.ForcapGlobal(nn,XYZ,IJ,nc,P)\n",
    "#Aplica as CChs homogêneas\n",
    "K_mod,F_mod = H3D.AplicaCCH(nn,na,AP,K_b,F_b)\n",
    "\n",
    "#Calcula o Deslocamento\n",
    "U = np.linalg.solve(K_mod,F_mod)\n",
    "\n",
    "#Calcula a Tensão ao longo dos elementos\n",
    "Sigma = H3D.CalculaTensaoMalha(nn,ne,MAT,XYZ,IJ,U,bolha=True)\n",
    "\n",
    "# #Calcula Von Mises\n",
    "TVM = H3D.TensaoVonMises3D(ne,Sigma)"
   ]
  },
  {
   "cell_type": "code",
   "execution_count": 79,
   "id": "307214a8",
   "metadata": {},
   "outputs": [],
   "source": [
    "Malha3D.Exporta_para_Gmsh(arquivo,IJ, XYZ, U,TVM)\n",
    "Malha3D.AbreVisualizacaoGmsh(arquivo)"
   ]
  }
 ],
 "metadata": {
  "kernelspec": {
   "display_name": "Python 3",
   "language": "python",
   "name": "python3"
  },
  "language_info": {
   "codemirror_mode": {
    "name": "ipython",
    "version": 3
   },
   "file_extension": ".py",
   "mimetype": "text/x-python",
   "name": "python",
   "nbconvert_exporter": "python",
   "pygments_lexer": "ipython3",
   "version": "3.13.1"
  }
 },
 "nbformat": 4,
 "nbformat_minor": 5
}
